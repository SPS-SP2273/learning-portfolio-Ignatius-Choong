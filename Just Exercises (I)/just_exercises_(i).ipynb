{
 "cells": [
  {
   "cell_type": "markdown",
   "id": "123456",
   "metadata": {},
   "source": [
    "<div style=\"text-align:left;font-size:2em\"><span style=\"font-weight:bolder;font-size:1.25em\">SP2273 | Learning Portfolio</span><br><br><span style=\"font-weight:bold;color:darkred\">Just Exercises (I)</span></div>"
   ]
  },
  {
   "cell_type": "markdown",
   "id": "aa7fd305",
   "metadata": {},
   "source": [
    "## Exercise 1 :  F-strings to the rescue"
   ]
  },
  {
   "cell_type": "code",
   "execution_count": 16,
   "id": "5aef0f70",
   "metadata": {},
   "outputs": [
    {
     "name": "stdout",
     "output_type": "stream",
     "text": [
      "00001\n",
      "00002\n",
      "00003\n",
      "00004\n",
      "00005\n",
      "00006\n",
      "00007\n",
      "00008\n",
      "00009\n",
      "00010\n"
     ]
    }
   ],
   "source": [
    "print (f\"00001\")\n",
    "print (f\"00002\")\n",
    "print (f\"00003\")\n",
    "print (f\"00004\")\n",
    "print (f\"00005\")\n",
    "print (f\"00006\")\n",
    "print (f\"00007\")\n",
    "print (f\"00008\")\n",
    "print (f\"00009\")\n",
    "print (f\"00010\")"
   ]
  },
  {
   "cell_type": "code",
   "execution_count": 28,
   "id": "736d4911",
   "metadata": {},
   "outputs": [
    {
     "name": "stdout",
     "output_type": "stream",
     "text": [
      "00001\n",
      "00002\n",
      "00003\n",
      "00004\n",
      "00005\n",
      "00006\n",
      "00007\n",
      "00008\n",
      "00009\n",
      "00010\n"
     ]
    }
   ],
   "source": [
    "for i in range(1, 11):\n",
    "    print(f\"00{i:03}\")"
   ]
  },
  {
   "cell_type": "code",
   "execution_count": 50,
   "id": "795da72c",
   "metadata": {},
   "outputs": [
    {
     "name": "stdout",
     "output_type": "stream",
     "text": [
      "001           +\n",
      "002          ++\n",
      "003         +++\n",
      "004        ++++\n",
      "005       +++++\n",
      "006      ++++++\n",
      "007     +++++++\n",
      "008    ++++++++\n",
      "009   +++++++++\n",
      "010  ++++++++++\n"
     ]
    }
   ],
   "source": [
    "for i in range(1, 11):\n",
    "    print(f\"{i:03}\",\" \"*(10-i), \"+\"*i)"
   ]
  },
  {
   "cell_type": "code",
   "execution_count": 4,
   "id": "14b61f7e",
   "metadata": {},
   "outputs": [
    {
     "name": "stdout",
     "output_type": "stream",
     "text": [
      "001 -+++++++++\n",
      "002 --++++++++\n",
      "003 ---+++++++\n",
      "004 ----++++++\n",
      "005 -----+++++\n",
      "006 ------++++\n",
      "007 -------+++\n",
      "008 --------++\n",
      "009 ---------+\n",
      "010 ----------\n"
     ]
    }
   ],
   "source": [
    "for i in range(1, 11):\n",
    "    print(f\"{i:03}\", \"-\"*i + \"+\"*(10-i))"
   ]
  },
  {
   "cell_type": "code",
   "execution_count": 72,
   "id": "39007361",
   "metadata": {},
   "outputs": [
    {
     "name": "stdout",
     "output_type": "stream",
     "text": [
      "['bruce_exploits.txt', 'bruce_enemies.txt', 'bruce_friends.txt', 'natasha_exploits.txt', 'natasha_enemies.txt', 'natasha_friends.txt', 'tony_exploits.txt', 'tony_enemies.txt', 'tony_friends.txt']\n"
     ]
    }
   ],
   "source": [
    "heroes = ['bruce', 'natasha', 'tony']\n",
    "info = ['exploits', 'enemies', 'friends']\n",
    "triple_info = [info]*3\n",
    "x = []\n",
    "#print(triple_info)\n",
    "\n",
    "for heroes, triple_info in zip(heroes,triple_info):\n",
    "    #print(heroes,triple_info)\n",
    "\n",
    "    for info in triple_info:\n",
    "        x.append(f'{heroes}_{info}.txt')\n",
    "        \n",
    "print(x)\n",
    "   "
   ]
  },
  {
   "cell_type": "code",
   "execution_count": 116,
   "id": "2d841d4a",
   "metadata": {},
   "outputs": [
    {
     "name": "stdout",
     "output_type": "stream",
     "text": [
      "exp-01_trial-001\n",
      "001_trial-001\n",
      "exp-02_trial-002\n",
      "002_trial-002\n",
      "exp-03_trial-003\n",
      "003_trial-003\n"
     ]
    }
   ],
   "source": [
    "countries = ['sg', 'gb', 'us']\n",
    "expt = ['exp-01', 'exp-02', 'exp-03']\n",
    "trial = []\n",
    "for i in range(51):\n",
    "    if i > 0: \n",
    "       trial.append(f\"{i:03}\") \n",
    "#print(trial)\n",
    "for expt,trial in zip (expt,trial):\n",
    "    for expt in expt,trial:\n",
    "        print(f'{expt}_trial-{trial}')\n",
    "\n",
    "\n"
   ]
  },
  {
   "cell_type": "code",
   "execution_count": 118,
   "id": "be3ae2d1",
   "metadata": {},
   "outputs": [
    {
     "name": "stdout",
     "output_type": "stream",
     "text": [
      "001\n",
      "002\n",
      "003\n",
      "004\n",
      "005\n",
      "006\n",
      "007\n",
      "008\n",
      "009\n",
      "010\n",
      "011\n",
      "012\n",
      "013\n",
      "014\n",
      "015\n",
      "016\n",
      "017\n",
      "018\n",
      "019\n",
      "020\n",
      "021\n",
      "022\n",
      "023\n",
      "024\n",
      "025\n",
      "026\n",
      "027\n",
      "028\n",
      "029\n",
      "030\n",
      "031\n",
      "032\n",
      "033\n",
      "034\n",
      "035\n",
      "036\n",
      "037\n",
      "038\n",
      "039\n",
      "040\n",
      "041\n",
      "042\n",
      "043\n",
      "044\n",
      "045\n",
      "046\n",
      "047\n",
      "048\n",
      "049\n",
      "050\n"
     ]
    }
   ],
   "source": [
    "trial = []\n",
    "for i in range(51):\n",
    "    if i > 0: \n",
    "       trial.append(f\"{i:03}\") \n",
    "\n",
    "for i in trial:\n",
    "    print(i)"
   ]
  },
  {
   "cell_type": "markdown",
   "id": "75fc72cc",
   "metadata": {},
   "source": [
    "## Exercise 2 :  Tutti frutti"
   ]
  },
  {
   "cell_type": "code",
   "execution_count": null,
   "id": "611af27b",
   "metadata": {},
   "outputs": [],
   "source": [
    "\n",
    "\n",
    "\n",
    "# Your solution here\n",
    "\n",
    "\n"
   ]
  },
  {
   "cell_type": "markdown",
   "id": "26992043",
   "metadata": {},
   "source": [
    "## Exercise 3 :  Ciao Fibonacci"
   ]
  },
  {
   "cell_type": "code",
   "execution_count": null,
   "id": "58c67f63",
   "metadata": {},
   "outputs": [],
   "source": [
    "\n",
    "\n",
    "\n",
    "# Your solution here\n",
    "\n",
    "\n"
   ]
  },
  {
   "cell_type": "markdown",
   "id": "0e4827b1",
   "metadata": {},
   "source": [
    "## Exercise 4 :  A function for Fibonacci"
   ]
  },
  {
   "cell_type": "code",
   "execution_count": null,
   "id": "41a75a05",
   "metadata": {},
   "outputs": [],
   "source": [
    "\n",
    "\n",
    "\n",
    "# Your solution here\n",
    "\n",
    "\n"
   ]
  },
  {
   "cell_type": "markdown",
   "id": "ecc981c3",
   "metadata": {},
   "source": [
    "## Exercise 5 :  max_info() without NumPy"
   ]
  },
  {
   "cell_type": "code",
   "execution_count": null,
   "id": "23b1a6ac",
   "metadata": {},
   "outputs": [],
   "source": [
    "\n",
    "\n",
    "\n",
    "# Your solution here\n",
    "\n",
    "\n"
   ]
  },
  {
   "cell_type": "markdown",
   "id": "e7e13332",
   "metadata": {},
   "source": [
    "## Exercise 6 :  Take count"
   ]
  },
  {
   "cell_type": "code",
   "execution_count": null,
   "id": "be9b04ec",
   "metadata": {},
   "outputs": [],
   "source": [
    "\n",
    "\n",
    "\n",
    "# Your solution here\n",
    "\n",
    "\n"
   ]
  }
 ],
 "metadata": {
  "kernelspec": {
   "display_name": "Python 3 (ipykernel)",
   "language": "python",
   "name": "python3"
  },
  "language_info": {
   "codemirror_mode": {
    "name": "ipython",
    "version": 3
   },
   "file_extension": ".py",
   "mimetype": "text/x-python",
   "name": "python",
   "nbconvert_exporter": "python",
   "pygments_lexer": "ipython3",
   "version": "3.10.8"
  },
  "toc": {
   "base_numbering": 1,
   "nav_menu": {},
   "number_sections": true,
   "sideBar": true,
   "skip_h1_title": false,
   "title_cell": "Table of Contents",
   "title_sidebar": "Contents",
   "toc_cell": false,
   "toc_position": {},
   "toc_section_display": true,
   "toc_window_display": false
  },
  "varInspector": {
   "cols": {
    "lenName": 16,
    "lenType": 16,
    "lenVar": 40
   },
   "kernels_config": {
    "python": {
     "delete_cmd_postfix": "",
     "delete_cmd_prefix": "del ",
     "library": "var_list.py",
     "varRefreshCmd": "print(var_dic_list())"
    },
    "r": {
     "delete_cmd_postfix": ") ",
     "delete_cmd_prefix": "rm(",
     "library": "var_list.r",
     "varRefreshCmd": "cat(var_dic_list()) "
    }
   },
   "types_to_exclude": [
    "module",
    "function",
    "builtin_function_or_method",
    "instance",
    "_Feature"
   ],
   "window_display": false
  },
  "vscode": {
   "interpreter": {
    "hash": "31f2aee4e71d21fbe5cf8b01ff0e069b9275f58929596ceb00d14d90e3e16cd6"
   }
  }
 },
 "nbformat": 4,
 "nbformat_minor": 5
}
