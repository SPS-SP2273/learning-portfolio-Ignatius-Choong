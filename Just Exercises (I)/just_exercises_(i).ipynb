{
 "cells": [
  {
   "cell_type": "markdown",
   "id": "123456",
   "metadata": {},
   "source": [
    "<div style=\"text-align:left;font-size:2em\"><span style=\"font-weight:bolder;font-size:1.25em\">SP2273 | Learning Portfolio</span><br><br><span style=\"font-weight:bold;color:darkred\">Just Exercises (I)</span></div>"
   ]
  },
  {
   "cell_type": "markdown",
   "id": "aa7fd305",
   "metadata": {},
   "source": [
    "## Exercise 1 :  F-strings to the rescue"
   ]
  },
  {
   "cell_type": "code",
   "execution_count": 16,
   "id": "5aef0f70",
   "metadata": {},
   "outputs": [
    {
     "name": "stdout",
     "output_type": "stream",
     "text": [
      "00001\n",
      "00002\n",
      "00003\n",
      "00004\n",
      "00005\n",
      "00006\n",
      "00007\n",
      "00008\n",
      "00009\n",
      "00010\n"
     ]
    }
   ],
   "source": [
    "print (f\"00001\")\n",
    "print (f\"00002\")\n",
    "print (f\"00003\")\n",
    "print (f\"00004\")\n",
    "print (f\"00005\")\n",
    "print (f\"00006\")\n",
    "print (f\"00007\")\n",
    "print (f\"00008\")\n",
    "print (f\"00009\")\n",
    "print (f\"00010\")"
   ]
  },
  {
   "cell_type": "code",
   "execution_count": 28,
   "id": "736d4911",
   "metadata": {},
   "outputs": [
    {
     "name": "stdout",
     "output_type": "stream",
     "text": [
      "00001\n",
      "00002\n",
      "00003\n",
      "00004\n",
      "00005\n",
      "00006\n",
      "00007\n",
      "00008\n",
      "00009\n",
      "00010\n"
     ]
    }
   ],
   "source": [
    "for i in range(1, 11):\n",
    "    print(f\"00{i:03}\")"
   ]
  },
  {
   "cell_type": "code",
   "execution_count": 50,
   "id": "795da72c",
   "metadata": {},
   "outputs": [
    {
     "name": "stdout",
     "output_type": "stream",
     "text": [
      "001           +\n",
      "002          ++\n",
      "003         +++\n",
      "004        ++++\n",
      "005       +++++\n",
      "006      ++++++\n",
      "007     +++++++\n",
      "008    ++++++++\n",
      "009   +++++++++\n",
      "010  ++++++++++\n"
     ]
    }
   ],
   "source": [
    "for i in range(1, 11):\n",
    "    print(f\"{i:03}\",\" \"*(10-i), \"+\"*i)"
   ]
  },
  {
   "cell_type": "code",
   "execution_count": 4,
   "id": "14b61f7e",
   "metadata": {},
   "outputs": [
    {
     "name": "stdout",
     "output_type": "stream",
     "text": [
      "001 -+++++++++\n",
      "002 --++++++++\n",
      "003 ---+++++++\n",
      "004 ----++++++\n",
      "005 -----+++++\n",
      "006 ------++++\n",
      "007 -------+++\n",
      "008 --------++\n",
      "009 ---------+\n",
      "010 ----------\n"
     ]
    }
   ],
   "source": [
    "for i in range(1, 11):\n",
    "    print(f\"{i:03}\", \"-\"*i + \"+\"*(10-i))"
   ]
  },
  {
   "cell_type": "code",
   "execution_count": 72,
   "id": "39007361",
   "metadata": {},
   "outputs": [
    {
     "name": "stdout",
     "output_type": "stream",
     "text": [
      "['bruce_exploits.txt', 'bruce_enemies.txt', 'bruce_friends.txt', 'natasha_exploits.txt', 'natasha_enemies.txt', 'natasha_friends.txt', 'tony_exploits.txt', 'tony_enemies.txt', 'tony_friends.txt']\n"
     ]
    }
   ],
   "source": [
    "heroes = ['bruce', 'natasha', 'tony']\n",
    "info = ['exploits', 'enemies', 'friends']\n",
    "triple_info = [info]*3\n",
    "x = []\n",
    "#print(triple_info)\n",
    "\n",
    "for heroes, triple_info in zip(heroes,triple_info):\n",
    "    #print(heroes,triple_info)\n",
    "\n",
    "    for info in triple_info:\n",
    "        x.append(f'{heroes}_{info}.txt')\n",
    "        \n",
    "print(x)\n",
    "   "
   ]
  },
  {
   "cell_type": "code",
   "execution_count": 28,
   "id": "2d841d4a",
   "metadata": {},
   "outputs": [
    {
     "name": "stdout",
     "output_type": "stream",
     "text": [
      "['data_sg_exp-01_trial-001', 'data_sg_exp-01_trial-002', 'data_sg_exp-01_trial-003', 'data_sg_exp-01_trial-004', 'data_sg_exp-01_trial-005', 'data_sg_exp-01_trial-006', 'data_sg_exp-01_trial-007', 'data_sg_exp-01_trial-008', 'data_sg_exp-01_trial-009', 'data_sg_exp-01_trial-010', 'data_sg_exp-01_trial-011', 'data_sg_exp-01_trial-012', 'data_sg_exp-01_trial-013', 'data_sg_exp-01_trial-014', 'data_sg_exp-01_trial-015', 'data_sg_exp-01_trial-016', 'data_sg_exp-01_trial-017', 'data_sg_exp-01_trial-018', 'data_sg_exp-01_trial-019', 'data_sg_exp-01_trial-020', 'data_sg_exp-01_trial-021', 'data_sg_exp-01_trial-022', 'data_sg_exp-01_trial-023', 'data_sg_exp-01_trial-024', 'data_sg_exp-01_trial-025', 'data_sg_exp-01_trial-026', 'data_sg_exp-01_trial-027', 'data_sg_exp-01_trial-028', 'data_sg_exp-01_trial-029', 'data_sg_exp-01_trial-030', 'data_sg_exp-01_trial-031', 'data_sg_exp-01_trial-032', 'data_sg_exp-01_trial-033', 'data_sg_exp-01_trial-034', 'data_sg_exp-01_trial-035', 'data_sg_exp-01_trial-036', 'data_sg_exp-01_trial-037', 'data_sg_exp-01_trial-038', 'data_sg_exp-01_trial-039', 'data_sg_exp-01_trial-040', 'data_sg_exp-01_trial-041', 'data_sg_exp-01_trial-042', 'data_sg_exp-01_trial-043', 'data_sg_exp-01_trial-044', 'data_sg_exp-01_trial-045', 'data_sg_exp-01_trial-046', 'data_sg_exp-01_trial-047', 'data_sg_exp-01_trial-048', 'data_sg_exp-01_trial-049', 'data_sg_exp-01_trial-050', 'data_sg_exp-02_trial-001', 'data_sg_exp-02_trial-002', 'data_sg_exp-02_trial-003', 'data_sg_exp-02_trial-004', 'data_sg_exp-02_trial-005', 'data_sg_exp-02_trial-006', 'data_sg_exp-02_trial-007', 'data_sg_exp-02_trial-008', 'data_sg_exp-02_trial-009', 'data_sg_exp-02_trial-010', 'data_sg_exp-02_trial-011', 'data_sg_exp-02_trial-012', 'data_sg_exp-02_trial-013', 'data_sg_exp-02_trial-014', 'data_sg_exp-02_trial-015', 'data_sg_exp-02_trial-016', 'data_sg_exp-02_trial-017', 'data_sg_exp-02_trial-018', 'data_sg_exp-02_trial-019', 'data_sg_exp-02_trial-020', 'data_sg_exp-02_trial-021', 'data_sg_exp-02_trial-022', 'data_sg_exp-02_trial-023', 'data_sg_exp-02_trial-024', 'data_sg_exp-02_trial-025', 'data_sg_exp-02_trial-026', 'data_sg_exp-02_trial-027', 'data_sg_exp-02_trial-028', 'data_sg_exp-02_trial-029', 'data_sg_exp-02_trial-030', 'data_sg_exp-02_trial-031', 'data_sg_exp-02_trial-032', 'data_sg_exp-02_trial-033', 'data_sg_exp-02_trial-034', 'data_sg_exp-02_trial-035', 'data_sg_exp-02_trial-036', 'data_sg_exp-02_trial-037', 'data_sg_exp-02_trial-038', 'data_sg_exp-02_trial-039', 'data_sg_exp-02_trial-040', 'data_sg_exp-02_trial-041', 'data_sg_exp-02_trial-042', 'data_sg_exp-02_trial-043', 'data_sg_exp-02_trial-044', 'data_sg_exp-02_trial-045', 'data_sg_exp-02_trial-046', 'data_sg_exp-02_trial-047', 'data_sg_exp-02_trial-048', 'data_sg_exp-02_trial-049', 'data_sg_exp-02_trial-050', 'data_sg_exp-03_trial-001', 'data_sg_exp-03_trial-002', 'data_sg_exp-03_trial-003', 'data_sg_exp-03_trial-004', 'data_sg_exp-03_trial-005', 'data_sg_exp-03_trial-006', 'data_sg_exp-03_trial-007', 'data_sg_exp-03_trial-008', 'data_sg_exp-03_trial-009', 'data_sg_exp-03_trial-010', 'data_sg_exp-03_trial-011', 'data_sg_exp-03_trial-012', 'data_sg_exp-03_trial-013', 'data_sg_exp-03_trial-014', 'data_sg_exp-03_trial-015', 'data_sg_exp-03_trial-016', 'data_sg_exp-03_trial-017', 'data_sg_exp-03_trial-018', 'data_sg_exp-03_trial-019', 'data_sg_exp-03_trial-020', 'data_sg_exp-03_trial-021', 'data_sg_exp-03_trial-022', 'data_sg_exp-03_trial-023', 'data_sg_exp-03_trial-024', 'data_sg_exp-03_trial-025', 'data_sg_exp-03_trial-026', 'data_sg_exp-03_trial-027', 'data_sg_exp-03_trial-028', 'data_sg_exp-03_trial-029', 'data_sg_exp-03_trial-030', 'data_sg_exp-03_trial-031', 'data_sg_exp-03_trial-032', 'data_sg_exp-03_trial-033', 'data_sg_exp-03_trial-034', 'data_sg_exp-03_trial-035', 'data_sg_exp-03_trial-036', 'data_sg_exp-03_trial-037', 'data_sg_exp-03_trial-038', 'data_sg_exp-03_trial-039', 'data_sg_exp-03_trial-040', 'data_sg_exp-03_trial-041', 'data_sg_exp-03_trial-042', 'data_sg_exp-03_trial-043', 'data_sg_exp-03_trial-044', 'data_sg_exp-03_trial-045', 'data_sg_exp-03_trial-046', 'data_sg_exp-03_trial-047', 'data_sg_exp-03_trial-048', 'data_sg_exp-03_trial-049', 'data_sg_exp-03_trial-050', 'data_gb_exp-01_trial-001', 'data_gb_exp-01_trial-002', 'data_gb_exp-01_trial-003', 'data_gb_exp-01_trial-004', 'data_gb_exp-01_trial-005', 'data_gb_exp-01_trial-006', 'data_gb_exp-01_trial-007', 'data_gb_exp-01_trial-008', 'data_gb_exp-01_trial-009', 'data_gb_exp-01_trial-010', 'data_gb_exp-01_trial-011', 'data_gb_exp-01_trial-012', 'data_gb_exp-01_trial-013', 'data_gb_exp-01_trial-014', 'data_gb_exp-01_trial-015', 'data_gb_exp-01_trial-016', 'data_gb_exp-01_trial-017', 'data_gb_exp-01_trial-018', 'data_gb_exp-01_trial-019', 'data_gb_exp-01_trial-020', 'data_gb_exp-01_trial-021', 'data_gb_exp-01_trial-022', 'data_gb_exp-01_trial-023', 'data_gb_exp-01_trial-024', 'data_gb_exp-01_trial-025', 'data_gb_exp-01_trial-026', 'data_gb_exp-01_trial-027', 'data_gb_exp-01_trial-028', 'data_gb_exp-01_trial-029', 'data_gb_exp-01_trial-030', 'data_gb_exp-01_trial-031', 'data_gb_exp-01_trial-032', 'data_gb_exp-01_trial-033', 'data_gb_exp-01_trial-034', 'data_gb_exp-01_trial-035', 'data_gb_exp-01_trial-036', 'data_gb_exp-01_trial-037', 'data_gb_exp-01_trial-038', 'data_gb_exp-01_trial-039', 'data_gb_exp-01_trial-040', 'data_gb_exp-01_trial-041', 'data_gb_exp-01_trial-042', 'data_gb_exp-01_trial-043', 'data_gb_exp-01_trial-044', 'data_gb_exp-01_trial-045', 'data_gb_exp-01_trial-046', 'data_gb_exp-01_trial-047', 'data_gb_exp-01_trial-048', 'data_gb_exp-01_trial-049', 'data_gb_exp-01_trial-050', 'data_gb_exp-02_trial-001', 'data_gb_exp-02_trial-002', 'data_gb_exp-02_trial-003', 'data_gb_exp-02_trial-004', 'data_gb_exp-02_trial-005', 'data_gb_exp-02_trial-006', 'data_gb_exp-02_trial-007', 'data_gb_exp-02_trial-008', 'data_gb_exp-02_trial-009', 'data_gb_exp-02_trial-010', 'data_gb_exp-02_trial-011', 'data_gb_exp-02_trial-012', 'data_gb_exp-02_trial-013', 'data_gb_exp-02_trial-014', 'data_gb_exp-02_trial-015', 'data_gb_exp-02_trial-016', 'data_gb_exp-02_trial-017', 'data_gb_exp-02_trial-018', 'data_gb_exp-02_trial-019', 'data_gb_exp-02_trial-020', 'data_gb_exp-02_trial-021', 'data_gb_exp-02_trial-022', 'data_gb_exp-02_trial-023', 'data_gb_exp-02_trial-024', 'data_gb_exp-02_trial-025', 'data_gb_exp-02_trial-026', 'data_gb_exp-02_trial-027', 'data_gb_exp-02_trial-028', 'data_gb_exp-02_trial-029', 'data_gb_exp-02_trial-030', 'data_gb_exp-02_trial-031', 'data_gb_exp-02_trial-032', 'data_gb_exp-02_trial-033', 'data_gb_exp-02_trial-034', 'data_gb_exp-02_trial-035', 'data_gb_exp-02_trial-036', 'data_gb_exp-02_trial-037', 'data_gb_exp-02_trial-038', 'data_gb_exp-02_trial-039', 'data_gb_exp-02_trial-040', 'data_gb_exp-02_trial-041', 'data_gb_exp-02_trial-042', 'data_gb_exp-02_trial-043', 'data_gb_exp-02_trial-044', 'data_gb_exp-02_trial-045', 'data_gb_exp-02_trial-046', 'data_gb_exp-02_trial-047', 'data_gb_exp-02_trial-048', 'data_gb_exp-02_trial-049', 'data_gb_exp-02_trial-050', 'data_gb_exp-03_trial-001', 'data_gb_exp-03_trial-002', 'data_gb_exp-03_trial-003', 'data_gb_exp-03_trial-004', 'data_gb_exp-03_trial-005', 'data_gb_exp-03_trial-006', 'data_gb_exp-03_trial-007', 'data_gb_exp-03_trial-008', 'data_gb_exp-03_trial-009', 'data_gb_exp-03_trial-010', 'data_gb_exp-03_trial-011', 'data_gb_exp-03_trial-012', 'data_gb_exp-03_trial-013', 'data_gb_exp-03_trial-014', 'data_gb_exp-03_trial-015', 'data_gb_exp-03_trial-016', 'data_gb_exp-03_trial-017', 'data_gb_exp-03_trial-018', 'data_gb_exp-03_trial-019', 'data_gb_exp-03_trial-020', 'data_gb_exp-03_trial-021', 'data_gb_exp-03_trial-022', 'data_gb_exp-03_trial-023', 'data_gb_exp-03_trial-024', 'data_gb_exp-03_trial-025', 'data_gb_exp-03_trial-026', 'data_gb_exp-03_trial-027', 'data_gb_exp-03_trial-028', 'data_gb_exp-03_trial-029', 'data_gb_exp-03_trial-030', 'data_gb_exp-03_trial-031', 'data_gb_exp-03_trial-032', 'data_gb_exp-03_trial-033', 'data_gb_exp-03_trial-034', 'data_gb_exp-03_trial-035', 'data_gb_exp-03_trial-036', 'data_gb_exp-03_trial-037', 'data_gb_exp-03_trial-038', 'data_gb_exp-03_trial-039', 'data_gb_exp-03_trial-040', 'data_gb_exp-03_trial-041', 'data_gb_exp-03_trial-042', 'data_gb_exp-03_trial-043', 'data_gb_exp-03_trial-044', 'data_gb_exp-03_trial-045', 'data_gb_exp-03_trial-046', 'data_gb_exp-03_trial-047', 'data_gb_exp-03_trial-048', 'data_gb_exp-03_trial-049', 'data_gb_exp-03_trial-050', 'data_us_exp-01_trial-001', 'data_us_exp-01_trial-002', 'data_us_exp-01_trial-003', 'data_us_exp-01_trial-004', 'data_us_exp-01_trial-005', 'data_us_exp-01_trial-006', 'data_us_exp-01_trial-007', 'data_us_exp-01_trial-008', 'data_us_exp-01_trial-009', 'data_us_exp-01_trial-010', 'data_us_exp-01_trial-011', 'data_us_exp-01_trial-012', 'data_us_exp-01_trial-013', 'data_us_exp-01_trial-014', 'data_us_exp-01_trial-015', 'data_us_exp-01_trial-016', 'data_us_exp-01_trial-017', 'data_us_exp-01_trial-018', 'data_us_exp-01_trial-019', 'data_us_exp-01_trial-020', 'data_us_exp-01_trial-021', 'data_us_exp-01_trial-022', 'data_us_exp-01_trial-023', 'data_us_exp-01_trial-024', 'data_us_exp-01_trial-025', 'data_us_exp-01_trial-026', 'data_us_exp-01_trial-027', 'data_us_exp-01_trial-028', 'data_us_exp-01_trial-029', 'data_us_exp-01_trial-030', 'data_us_exp-01_trial-031', 'data_us_exp-01_trial-032', 'data_us_exp-01_trial-033', 'data_us_exp-01_trial-034', 'data_us_exp-01_trial-035', 'data_us_exp-01_trial-036', 'data_us_exp-01_trial-037', 'data_us_exp-01_trial-038', 'data_us_exp-01_trial-039', 'data_us_exp-01_trial-040', 'data_us_exp-01_trial-041', 'data_us_exp-01_trial-042', 'data_us_exp-01_trial-043', 'data_us_exp-01_trial-044', 'data_us_exp-01_trial-045', 'data_us_exp-01_trial-046', 'data_us_exp-01_trial-047', 'data_us_exp-01_trial-048', 'data_us_exp-01_trial-049', 'data_us_exp-01_trial-050', 'data_us_exp-02_trial-001', 'data_us_exp-02_trial-002', 'data_us_exp-02_trial-003', 'data_us_exp-02_trial-004', 'data_us_exp-02_trial-005', 'data_us_exp-02_trial-006', 'data_us_exp-02_trial-007', 'data_us_exp-02_trial-008', 'data_us_exp-02_trial-009', 'data_us_exp-02_trial-010', 'data_us_exp-02_trial-011', 'data_us_exp-02_trial-012', 'data_us_exp-02_trial-013', 'data_us_exp-02_trial-014', 'data_us_exp-02_trial-015', 'data_us_exp-02_trial-016', 'data_us_exp-02_trial-017', 'data_us_exp-02_trial-018', 'data_us_exp-02_trial-019', 'data_us_exp-02_trial-020', 'data_us_exp-02_trial-021', 'data_us_exp-02_trial-022', 'data_us_exp-02_trial-023', 'data_us_exp-02_trial-024', 'data_us_exp-02_trial-025', 'data_us_exp-02_trial-026', 'data_us_exp-02_trial-027', 'data_us_exp-02_trial-028', 'data_us_exp-02_trial-029', 'data_us_exp-02_trial-030', 'data_us_exp-02_trial-031', 'data_us_exp-02_trial-032', 'data_us_exp-02_trial-033', 'data_us_exp-02_trial-034', 'data_us_exp-02_trial-035', 'data_us_exp-02_trial-036', 'data_us_exp-02_trial-037', 'data_us_exp-02_trial-038', 'data_us_exp-02_trial-039', 'data_us_exp-02_trial-040', 'data_us_exp-02_trial-041', 'data_us_exp-02_trial-042', 'data_us_exp-02_trial-043', 'data_us_exp-02_trial-044', 'data_us_exp-02_trial-045', 'data_us_exp-02_trial-046', 'data_us_exp-02_trial-047', 'data_us_exp-02_trial-048', 'data_us_exp-02_trial-049', 'data_us_exp-02_trial-050', 'data_us_exp-03_trial-001', 'data_us_exp-03_trial-002', 'data_us_exp-03_trial-003', 'data_us_exp-03_trial-004', 'data_us_exp-03_trial-005', 'data_us_exp-03_trial-006', 'data_us_exp-03_trial-007', 'data_us_exp-03_trial-008', 'data_us_exp-03_trial-009', 'data_us_exp-03_trial-010', 'data_us_exp-03_trial-011', 'data_us_exp-03_trial-012', 'data_us_exp-03_trial-013', 'data_us_exp-03_trial-014', 'data_us_exp-03_trial-015', 'data_us_exp-03_trial-016', 'data_us_exp-03_trial-017', 'data_us_exp-03_trial-018', 'data_us_exp-03_trial-019', 'data_us_exp-03_trial-020', 'data_us_exp-03_trial-021', 'data_us_exp-03_trial-022', 'data_us_exp-03_trial-023', 'data_us_exp-03_trial-024', 'data_us_exp-03_trial-025', 'data_us_exp-03_trial-026', 'data_us_exp-03_trial-027', 'data_us_exp-03_trial-028', 'data_us_exp-03_trial-029', 'data_us_exp-03_trial-030', 'data_us_exp-03_trial-031', 'data_us_exp-03_trial-032', 'data_us_exp-03_trial-033', 'data_us_exp-03_trial-034', 'data_us_exp-03_trial-035', 'data_us_exp-03_trial-036', 'data_us_exp-03_trial-037', 'data_us_exp-03_trial-038', 'data_us_exp-03_trial-039', 'data_us_exp-03_trial-040', 'data_us_exp-03_trial-041', 'data_us_exp-03_trial-042', 'data_us_exp-03_trial-043', 'data_us_exp-03_trial-044', 'data_us_exp-03_trial-045', 'data_us_exp-03_trial-046', 'data_us_exp-03_trial-047', 'data_us_exp-03_trial-048', 'data_us_exp-03_trial-049', 'data_us_exp-03_trial-050']\n"
     ]
    }
   ],
   "source": [
    "countries = ['sg', 'gb', 'us']\n",
    "expt = ['exp-01', 'exp-02', 'exp-03']\n",
    "trial = []\n",
    "for i in range(51):\n",
    "    if i > 0: \n",
    "       trial.append(f\"{i:03}\") \n",
    "#print(trial)\n",
    "\n",
    "triple_trial = [trial]*3\n",
    "#print(triple_trial)\n",
    "\n",
    "expt_trial = []\n",
    "triple_expt_trial = [expt_trial]*3\n",
    "x = []\n",
    "\n",
    "for expt,triple_trial in zip (expt,triple_trial):\n",
    "    #print(expt,triple_trial)\n",
    "    for trial in triple_trial:\n",
    "        expt_trial.append(f'{expt}_trial-{trial}')\n",
    "#print(expt_trial)\n",
    "\n",
    "#print(triple_expt_trial)\n",
    "for countries,triple_expt_trial in zip (countries,triple_expt_trial):\n",
    "    #print(countries,triple_expt_trial)\n",
    "    for expt in triple_expt_trial:\n",
    "        x.append(f'data_{countries}_{expt}')\n",
    "\n",
    "print(x) "
   ]
  },
  {
   "cell_type": "markdown",
   "id": "75fc72cc",
   "metadata": {},
   "source": [
    "## Exercise 2 :  Tutti frutti"
   ]
  },
  {
   "cell_type": "code",
   "execution_count": null,
   "id": "5cd8c422",
   "metadata": {},
   "outputs": [],
   "source": [
    "0 in y"
   ]
  },
  {
   "cell_type": "code",
   "execution_count": 38,
   "id": "611af27b",
   "metadata": {},
   "outputs": [
    {
     "data": {
      "text/plain": [
       "True"
      ]
     },
     "execution_count": 38,
     "metadata": {},
     "output_type": "execute_result"
    }
   ],
   "source": [
    "fruits = [\"apple\", \"banana\", \"pineapple\", \"jackfruit\",\n",
    "        \"peach\", \"durian\", \"watermelon\", \"mango\",\n",
    "        \"strawberry\", \"passionfruit\"]\n",
    "\"mango\" in fruits"
   ]
  },
  {
   "cell_type": "code",
   "execution_count": 50,
   "id": "57c2a770",
   "metadata": {},
   "outputs": [
    {
     "name": "stdout",
     "output_type": "stream",
     "text": [
      "a e\n",
      "b a\n",
      "p e\n",
      "j t\n",
      "p h\n",
      "d n\n",
      "w n\n",
      "m o\n",
      "s y\n",
      "p t\n"
     ]
    }
   ],
   "source": [
    "fruits = [\"apple\", \"banana\", \"pineapple\", \"jackfruit\",\n",
    "        \"peach\", \"durian\", \"watermelon\", \"mango\",\n",
    "        \"strawberry\", \"passionfruit\"]\n",
    "for fruit in fruits:\n",
    "    print(fruit[0], fruit[-1])"
   ]
  },
  {
   "cell_type": "code",
   "execution_count": 63,
   "id": "01c82005",
   "metadata": {},
   "outputs": [
    {
     "name": "stdout",
     "output_type": "stream",
     "text": [
      "apple\n",
      "banana\n",
      "PINEAPPLE\n",
      "jackfruit\n",
      "PEACH\n",
      "durian\n",
      "watermelon\n",
      "mango\n",
      "strawberry\n",
      "PASSIONFRUIT\n"
     ]
    }
   ],
   "source": [
    "fruits = [\"apple\", \"banana\", \"pineapple\", \"jackfruit\",\n",
    "        \"peach\", \"durian\", \"watermelon\", \"mango\",\n",
    "        \"strawberry\", \"passionfruit\"]\n",
    "for fruit in fruits:\n",
    "    if fruit[0] == \"p\":\n",
    "        print(fruit.upper())\n",
    "    else :\n",
    "        print(fruit)"
   ]
  },
  {
   "cell_type": "code",
   "execution_count": 68,
   "id": "8fc718f3",
   "metadata": {},
   "outputs": [
    {
     "data": {
      "text/plain": [
       "['apple',\n",
       " 'banana',\n",
       " 'pineapple',\n",
       " 'jackfruit',\n",
       " 'peach',\n",
       " 'durian',\n",
       " 'watermelon',\n",
       " 'mango',\n",
       " 'strawberry',\n",
       " 'passionfruit',\n",
       " 'dragon fruit',\n",
       " 'apricots',\n",
       " 'oranges']"
      ]
     },
     "execution_count": 68,
     "metadata": {},
     "output_type": "execute_result"
    }
   ],
   "source": [
    "fruits = [\"apple\", \"banana\", \"pineapple\", \"jackfruit\",\n",
    "        \"peach\", \"durian\", \"watermelon\", \"mango\",\n",
    "        \"strawberry\", \"passionfruit\"]\n",
    "new_fruits = [\"dragon fruit\", \"apricots\", \"oranges\"]\n",
    "fruits + new_fruits\n"
   ]
  },
  {
   "cell_type": "code",
   "execution_count": 67,
   "id": "8da90803",
   "metadata": {},
   "outputs": [
    {
     "data": {
      "text/plain": [
       "['dragon fruit',\n",
       " 'apricots',\n",
       " 'oranges',\n",
       " 'apple',\n",
       " 'banana',\n",
       " 'pineapple',\n",
       " 'jackfruit',\n",
       " 'peach',\n",
       " 'durian',\n",
       " 'watermelon',\n",
       " 'mango',\n",
       " 'strawberry',\n",
       " 'passionfruit']"
      ]
     },
     "execution_count": 67,
     "metadata": {},
     "output_type": "execute_result"
    }
   ],
   "source": [
    "fruits = [\"apple\", \"banana\", \"pineapple\", \"jackfruit\",\n",
    "        \"peach\", \"durian\", \"watermelon\", \"mango\",\n",
    "        \"strawberry\", \"passionfruit\"]\n",
    "new_fruits = [\"dragon fruit\", \"apricots\", \"oranges\"]\n",
    "\n",
    "new_fruits + fruits"
   ]
  },
  {
   "cell_type": "code",
   "execution_count": 18,
   "id": "4890334d",
   "metadata": {},
   "outputs": [
    {
     "data": {
      "text/plain": [
       "['apple',\n",
       " 'banana',\n",
       " 'pineapple',\n",
       " 'jackfruit',\n",
       " 'peach',\n",
       " 'dragon fruit',\n",
       " 'apricots',\n",
       " 'oranges',\n",
       " 'durian',\n",
       " 'watermelon',\n",
       " 'mango',\n",
       " 'strawberry',\n",
       " 'passionfruit']"
      ]
     },
     "execution_count": 18,
     "metadata": {},
     "output_type": "execute_result"
    }
   ],
   "source": [
    "fruits = [\"apple\", \"banana\", \"pineapple\", \"jackfruit\",\n",
    "        \"peach\", \"durian\", \"watermelon\", \"mango\",\n",
    "        \"strawberry\", \"passionfruit\"]\n",
    "new_fruits = [\"dragon fruit\", \"apricots\", \"oranges\"]\n",
    "\n",
    "x = int(len(fruits)/2)\n",
    "y = int(len(fruits))\n",
    "\n",
    "fruits[0:x] + new_fruits + fruits[x:y]\n",
    "\n"
   ]
  },
  {
   "cell_type": "code",
   "execution_count": 2,
   "id": "3f71f136",
   "metadata": {},
   "outputs": [
    {
     "data": {
      "text/plain": [
       "['pineapple', 'jackfruit', 'watermelon', 'strawberry', 'passionfruit']"
      ]
     },
     "execution_count": 2,
     "metadata": {},
     "output_type": "execute_result"
    }
   ],
   "source": [
    "fruits = [\"apple\", \"banana\", \"pineapple\", \"jackfruit\",\n",
    "        \"peach\", \"durian\", \"watermelon\", \"mango\",\n",
    "        \"strawberry\", \"passionfruit\"]\n",
    "[fruit for fruit in fruits if int(len(fruit))>8]"
   ]
  },
  {
   "cell_type": "markdown",
   "id": "26992043",
   "metadata": {},
   "source": [
    "## Exercise 3 :  Ciao Fibonacci"
   ]
  },
  {
   "cell_type": "code",
   "execution_count": 41,
   "id": "58c67f63",
   "metadata": {},
   "outputs": [
    {
     "name": "stdout",
     "output_type": "stream",
     "text": [
      "[0, 1, 1, 2, 3, 5, 8, 13, 21, 34, 55, 89, 144, 233, 377]\n"
     ]
    }
   ],
   "source": [
    "fibonnaci=[0, 1]\n",
    "for y in range(1000):\n",
    "    y = fibonnaci[-1] + fibonnaci[-2]\n",
    "    fibonnaci.append(y)\n",
    "    if len(fibonnaci) > 14 : break\n",
    "print(fibonnaci)"
   ]
  },
  {
   "cell_type": "code",
   "execution_count": 42,
   "id": "b4e71490",
   "metadata": {},
   "outputs": [
    {
     "name": "stdout",
     "output_type": "stream",
     "text": [
      "[0, 1, 1, 2, 3, 5, 8, 13, 21, 34, 55, 89, 144, 233, 377]\n"
     ]
    }
   ],
   "source": [
    "fibonnaci=[0, 1]\n",
    "\n",
    "for i in fibonnaci:\n",
    "    y = fibonnaci[-1] + fibonnaci[-2]\n",
    "    fibonnaci.append(y)\n",
    "    if len(fibonnaci) > 14 : break\n",
    "print(fibonnaci)"
   ]
  },
  {
   "cell_type": "markdown",
   "id": "0e4827b1",
   "metadata": {},
   "source": [
    "## Exercise 4 :  A function for Fibonacci"
   ]
  },
  {
   "cell_type": "code",
   "execution_count": 49,
   "id": "41a75a05",
   "metadata": {},
   "outputs": [
    {
     "ename": "SyntaxError",
     "evalue": "expected ':' (1349267748.py, line 9)",
     "output_type": "error",
     "traceback": [
      "\u001b[1;36m  Cell \u001b[1;32mIn[49], line 9\u001b[1;36m\u001b[0m\n\u001b[1;33m    else if r > 1:\u001b[0m\n\u001b[1;37m         ^\u001b[0m\n\u001b[1;31mSyntaxError\u001b[0m\u001b[1;31m:\u001b[0m expected ':'\n"
     ]
    }
   ],
   "source": [
    "fibonnaci=[0, 1]\n",
    "n = 2\n",
    "r = n - 1\n",
    "assert r >= 0, \"Digits cannnot be less than 0\"\n",
    "\n",
    "x = len(fibonnaci)\n",
    "if r == 1:\n",
    "    print(fibonnaci)\n",
    "else if r > 1:\n",
    "    for i in fibonnaci:\n",
    "        y = fibonnaci[-1] + fibonnaci[-2]\n",
    "        fibonnaci.append(y)\n",
    "        if len(fibonnaci) > r : break\n",
    "print(fibonnaci)"
   ]
  },
  {
   "cell_type": "markdown",
   "id": "ecc981c3",
   "metadata": {},
   "source": [
    "## Exercise 5 :  max_info() without NumPy"
   ]
  },
  {
   "cell_type": "code",
   "execution_count": null,
   "id": "23b1a6ac",
   "metadata": {},
   "outputs": [],
   "source": [
    "\n",
    "\n",
    "\n",
    "# Your solution here\n",
    "\n",
    "\n"
   ]
  },
  {
   "cell_type": "markdown",
   "id": "e7e13332",
   "metadata": {},
   "source": [
    "## Exercise 6 :  Take count"
   ]
  },
  {
   "cell_type": "code",
   "execution_count": null,
   "id": "be9b04ec",
   "metadata": {},
   "outputs": [],
   "source": [
    "\n",
    "\n",
    "\n",
    "# Your solution here\n",
    "\n",
    "\n"
   ]
  }
 ],
 "metadata": {
  "kernelspec": {
   "display_name": "Python 3 (ipykernel)",
   "language": "python",
   "name": "python3"
  },
  "language_info": {
   "codemirror_mode": {
    "name": "ipython",
    "version": 3
   },
   "file_extension": ".py",
   "mimetype": "text/x-python",
   "name": "python",
   "nbconvert_exporter": "python",
   "pygments_lexer": "ipython3",
   "version": "3.10.8"
  },
  "toc": {
   "base_numbering": 1,
   "nav_menu": {},
   "number_sections": true,
   "sideBar": true,
   "skip_h1_title": false,
   "title_cell": "Table of Contents",
   "title_sidebar": "Contents",
   "toc_cell": false,
   "toc_position": {},
   "toc_section_display": true,
   "toc_window_display": false
  },
  "varInspector": {
   "cols": {
    "lenName": 16,
    "lenType": 16,
    "lenVar": 40
   },
   "kernels_config": {
    "python": {
     "delete_cmd_postfix": "",
     "delete_cmd_prefix": "del ",
     "library": "var_list.py",
     "varRefreshCmd": "print(var_dic_list())"
    },
    "r": {
     "delete_cmd_postfix": ") ",
     "delete_cmd_prefix": "rm(",
     "library": "var_list.r",
     "varRefreshCmd": "cat(var_dic_list()) "
    }
   },
   "types_to_exclude": [
    "module",
    "function",
    "builtin_function_or_method",
    "instance",
    "_Feature"
   ],
   "window_display": false
  },
  "vscode": {
   "interpreter": {
    "hash": "31f2aee4e71d21fbe5cf8b01ff0e069b9275f58929596ceb00d14d90e3e16cd6"
   }
  }
 },
 "nbformat": 4,
 "nbformat_minor": 5
}
