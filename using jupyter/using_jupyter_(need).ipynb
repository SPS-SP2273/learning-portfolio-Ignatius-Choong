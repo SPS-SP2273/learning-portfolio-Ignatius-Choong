{
 "cells": [
  {
   "cell_type": "markdown",
   "id": "123456",
   "metadata": {},
   "source": [
    "<div style=\"text-align:left;font-size:2em\"><span style=\"font-weight:bolder;font-size:1.25em\">SP2273 | Learning Portfolio</span><br><br><span style=\"font-weight:bold;color:darkred\">Using Jupyter (Need)</span></div>"
   ]
  },
  {
   "cell_type": "markdown",
   "id": "e01d97c2",
   "metadata": {},
   "source": [
    "## 1 Getting started with Jupyter"
   ]
  },
  {
   "cell_type": "markdown",
   "id": "310dc9de",
   "metadata": {},
   "source": [
    "### 1.1 Its all about running cells"
   ]
  },
  {
   "cell_type": "code",
   "execution_count": 2,
   "id": "76a928d2",
   "metadata": {},
   "outputs": [
    {
     "name": "stdout",
     "output_type": "stream",
     "text": [
      "6\n"
     ]
    }
   ],
   "source": [
    "\n",
    "a = 4\n",
    "b = 2\n",
    "c = a + b\n",
    "print (c)\n"
   ]
  },
  {
   "cell_type": "markdown",
   "id": "96df6edd",
   "metadata": {},
   "source": [
    "### 1.2 A traditional start"
   ]
  },
  {
   "cell_type": "code",
   "execution_count": 3,
   "id": "71c55be6",
   "metadata": {},
   "outputs": [
    {
     "name": "stdout",
     "output_type": "stream",
     "text": [
      "Hello World!\n"
     ]
    }
   ],
   "source": [
    "\n",
    "print('Hello World!')\n"
   ]
  },
  {
   "cell_type": "markdown",
   "id": "b3ee21c5",
   "metadata": {},
   "source": [
    "## 2 All about Markdown"
   ]
  },
  {
   "cell_type": "markdown",
   "id": "688b54e1",
   "metadata": {},
   "source": [
    "### 2.1 Rendering Markdown cells"
   ]
  },
  {
   "cell_type": "markdown",
   "id": "a27fcc2e",
   "metadata": {},
   "source": [
    "\n",
    "What is a markdown cell\n"
   ]
  },
  {
   "cell_type": "markdown",
   "id": "7fe38c43",
   "metadata": {},
   "source": [
    "### 2.2 Some basic syntax"
   ]
  },
  {
   "cell_type": "markdown",
   "id": "4a6ed55d",
   "metadata": {},
   "source": [
    "The ships *hung in the sky* in much the same way that **bricks don’t.**\n"
   ]
  },
  {
   "cell_type": "markdown",
   "id": "2f0e1865",
   "metadata": {},
   "source": [
    "### 2.3 Headings"
   ]
  },
  {
   "cell_type": "markdown",
   "id": "ada9058b",
   "metadata": {},
   "source": [
    "\n",
    "# The largest heading\n",
    "## The second-largest heading\n",
    "### The third-largest heading\n",
    "#### The smallest heading\n"
   ]
  },
  {
   "cell_type": "markdown",
   "id": "2d9f3c10",
   "metadata": {},
   "source": [
    "### 2.4 Displaying Code"
   ]
  },
  {
   "cell_type": "markdown",
   "id": "fc685f3f",
   "metadata": {},
   "source": [
    "\n",
    "# Your code here\n"
   ]
  },
  {
   "cell_type": "markdown",
   "id": "568a58c8",
   "metadata": {},
   "source": [
    "### 2.5 Links"
   ]
  },
  {
   "cell_type": "markdown",
   "id": "f429685e",
   "metadata": {},
   "source": [
    "[SP2273 Website](https://sps.nus.edu.sg/sp2273)\n",
    "\n"
   ]
  },
  {
   "cell_type": "markdown",
   "id": "82986110",
   "metadata": {},
   "source": []
  },
  {
   "cell_type": "markdown",
   "id": "3280bdb2",
   "metadata": {},
   "source": [
    "### 2.6 Images"
   ]
  },
  {
   "cell_type": "markdown",
   "id": "b6d30721",
   "metadata": {},
   "source": [
    "\n",
    "![](https://nus.edu.sg/images/default-source/base/logo.png)"
   ]
  },
  {
   "cell_type": "markdown",
   "id": "6df7af4f",
   "metadata": {},
   "source": [
    "### 2.7 Tables"
   ]
  },
  {
   "cell_type": "markdown",
   "id": "f1173c7b",
   "metadata": {},
   "source": [
    "| A    |  B   |    C |\n",
    "| :--- | :--: | ---: |\n",
    "| a1   |  b1  |   c1 |\n",
    "| a2   |  b2  |   c2 |\n",
    "| a3   |  b3  |   c3 |\n"
   ]
  },
  {
   "cell_type": "markdown",
   "id": "102c9601",
   "metadata": {},
   "source": [
    "### 2.8 Lists"
   ]
  },
  {
   "cell_type": "markdown",
   "id": "da232945",
   "metadata": {},
   "source": [
    "1. Master Yoda\n",
    "1. Luke Skywalker\n",
    "1. Anakin Skywalker\n"
   ]
  },
  {
   "cell_type": "markdown",
   "id": "f2493c88",
   "metadata": {},
   "source": [
    "- Master Yoda\n",
    "- Luke Skywalker\n",
    "- Anakin Skywalker"
   ]
  },
  {
   "cell_type": "markdown",
   "id": "ae13d3fc",
   "metadata": {},
   "source": [
    "1. Master Yoda\n",
    "   1. Was a Jedi\n",
    "   1. Was a bit green\n",
    "  \n",
    "1. Luke Skywalker\n",
    "   1. Was a Jedi\n",
    "   1. Is Anakin's son.\n",
    "1. Anakin Skywalker\n",
    "   1. Was a Jedi then became a baddie\n",
    "   1. Is famous for saying 'Luke, I am your father'"
   ]
  },
  {
   "cell_type": "markdown",
   "id": "16da9da3",
   "metadata": {},
   "source": [
    "1. Master Yoda\n",
    "   - Was a Jedi\n",
    "   - Was a bit green\n",
    "2. Luke Skywalker\n",
    "   - Was a Jedi\n",
    "   - Is Anakin's son.\n",
    "3. Anakin Skywalker\n",
    "   - Was a Jedi then became a baddie\n",
    "   - Is famous for saying 'Luke, I am your father'"
   ]
  },
  {
   "cell_type": "markdown",
   "id": "2529e433",
   "metadata": {},
   "source": [
    "### 2.9 Equations"
   ]
  },
  {
   "cell_type": "markdown",
   "id": "94f7e8bf",
   "metadata": {},
   "source": [
    "\n",
    "$\\sqrt{b^2-4ac}$ wooo\n"
   ]
  },
  {
   "cell_type": "markdown",
   "id": "952b736b",
   "metadata": {},
   "source": [
    "$$\n",
    "x = \\dfrac{-b \\pm \\sqrt{b^2-4ac}}{2a}\n",
    "$$"
   ]
  },
  {
   "cell_type": "markdown",
   "id": "6924f7fa",
   "metadata": {},
   "source": [
    "## Exercise 1 :  Put it in Markdown"
   ]
  },
  {
   "cell_type": "markdown",
   "id": "29307764",
   "metadata": {},
   "source": [
    "### Quadractic Equations\n",
    "![](https://upload.wikimedia.org/wikipedia/commons/f/f8/Polynomialdeg2.svg)\n",
    "(*Image from the* [*Wikipedia page on Quadratic equations*](https://en.wikipedia.org/wiki/Quadratic_equation))\n",
    "### Introduction\n",
    "The general form of a quadratic equation is:\n",
    "$$\n",
    "ax^2 + bx + c = 0\n",
    "$$\n",
    "**Solutions** Provided $a \\ne 0$, we can use an elementary algebraic method called [completeing the square](https://en.wikipedia.org/wiki/Completing_the_square) to show that a quadratic equation has the following solution:\n",
    "\n",
    "$$\n",
    "x = \\dfrac{-b \\pm \\sqrt{b^2-4ac}}{2a}\n",
    "$$\n",
    "\n",
    "### Discriminant\n",
    "The quantity $\\Delta =b^2-4ac$ is called the **discriminant** of the equation and decides the nature of its solutions. The table below shows the various possibilities.\n",
    "\n",
    "| **Discriminant**            |  **Roots**         |\n",
    "| :-----------------------| ---------------------: |\n",
    "| $$\\Delta = b^2-4ac = 0$$|  A single solution of $\\dfrac{-b}{2a}$ |\n",
    "| $\\Delta = b^2-4ac \\gt 0$  |  Two distinct solutions  |\n",
    "| $\\Delta = b^2-4ac \\lt 0$  |  No real solutions; both are complex.  |\n",
    "\n",
    "\n",
    "\n",
    "\n",
    "\n"
   ]
  },
  {
   "cell_type": "markdown",
   "id": "dfb37c66",
   "metadata": {},
   "source": [
    "## Exercise 2 :  In your own words"
   ]
  },
  {
   "cell_type": "markdown",
   "id": "36d91472",
   "metadata": {},
   "source": [
    "1. It is like a folder in the cloud, where coding files can be stored and edited\n",
    "1. changes\n",
    "1. A commit is a snapshot of the current state and history of the local repository, and it allows a brief description to be attached to the changes\n",
    "1. It is like uploading changes to the cloud, sharing it to the remote repository.\n",
    "1. GitHub is an online service to maintain code and GitHub Desktop allows easier interface with GitHub\n",
    "1. Fetch/pull command can retrieve changes made to a remote repository to local repository."
   ]
  }
 ],
 "metadata": {
  "kernelspec": {
   "display_name": "Python 3 (ipykernel)",
   "language": "python",
   "name": "python3"
  },
  "language_info": {
   "codemirror_mode": {
    "name": "ipython",
    "version": 3
   },
   "file_extension": ".py",
   "mimetype": "text/x-python",
   "name": "python",
   "nbconvert_exporter": "python",
   "pygments_lexer": "ipython3",
   "version": "3.10.8"
  },
  "toc": {
   "base_numbering": 1,
   "nav_menu": {},
   "number_sections": true,
   "sideBar": true,
   "skip_h1_title": false,
   "title_cell": "Table of Contents",
   "title_sidebar": "Contents",
   "toc_cell": false,
   "toc_position": {},
   "toc_section_display": true,
   "toc_window_display": false
  },
  "vscode": {
   "interpreter": {
    "hash": "31f2aee4e71d21fbe5cf8b01ff0e069b9275f58929596ceb00d14d90e3e16cd6"
   }
  }
 },
 "nbformat": 4,
 "nbformat_minor": 5
}
