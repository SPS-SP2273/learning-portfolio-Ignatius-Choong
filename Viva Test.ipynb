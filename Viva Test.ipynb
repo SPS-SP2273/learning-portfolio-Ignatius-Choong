{
 "cells": [
  {
   "cell_type": "code",
   "execution_count": 10,
   "id": "c90a3a31",
   "metadata": {},
   "outputs": [],
   "source": [
    "import numpy as np \n",
    "import glob\n",
    "import os\n",
    "import matplotlib.pyplot as plt"
   ]
  },
  {
   "cell_type": "code",
   "execution_count": 5,
   "id": "5e3a762b",
   "metadata": {},
   "outputs": [
    {
     "data": {
      "text/plain": [
       "'C:\\\\Users\\\\IGNATIUS\\\\OneDrive\\\\Documents\\\\GitHub\\\\learning-portfolio-Ignatius-Choong\\\\humpty-dumpty-ir-spectra'"
      ]
     },
     "execution_count": 5,
     "metadata": {},
     "output_type": "execute_result"
    }
   ],
   "source": [
    "os.chdir('humpty-dumpty-ir-spectra')\n",
    "os.getcwd()"
   ]
  },
  {
   "cell_type": "code",
   "execution_count": 6,
   "id": "e07212c5",
   "metadata": {},
   "outputs": [],
   "source": [
    "glob.glob('*')\n",
    "\n",
    "octene_files = glob.glob('*1-octene*')\n",
    "ethanol_files = glob.glob('*ethanol*')\n",
    "toluene_files = glob.glob('*toluene*')\n",
    "\n",
    "#print(octene_files)\n",
    "#print(ethanol_files)\n",
    "#print(toluene_files)"
   ]
  },
  {
   "cell_type": "code",
   "execution_count": 13,
   "id": "31f40c62",
   "metadata": {},
   "outputs": [
    {
     "data": {
      "text/plain": [
       "{658.0: 0.69698,\n",
       " 608.0: 0.71952,\n",
       " 633.0: 0.19222,\n",
       " 663.0: 0.73428,\n",
       " 618.0: 0.42332,\n",
       " 588.0: 0.8992,\n",
       " 623.0: 0.27858,\n",
       " 603.0: 0.80214,\n",
       " 653.0: 0.60654,\n",
       " 643.0: 0.35506,\n",
       " 638.0: 0.24028,\n",
       " 648.0: 0.47364,\n",
       " 583.0: 0.90352,\n",
       " 598.0: 0.85004,\n",
       " 593.0: 0.88,\n",
       " 628.0: 0.20078,\n",
       " 613.0: 0.56844,\n",
       " 563.0: 0.7664,\n",
       " 533.0: 0.92338,\n",
       " 538.0: 0.87666,\n",
       " 573.0: 0.86962,\n",
       " 548.0: 0.62808,\n",
       " 558.0: 0.69638,\n",
       " 553.0: 0.60474,\n",
       " 543.0: 0.75722,\n",
       " 568.0: 0.81304,\n",
       " 2533.0: 0.85498,\n",
       " 2643.0: 0.6748,\n",
       " 2573.0: 0.79388,\n",
       " 2538.0: 0.84356,\n",
       " 2603.0: 0.7565,\n",
       " 2513.0: 0.8797,\n",
       " 2618.0: 0.73486,\n",
       " 2553.0: 0.81712,\n",
       " 2578.0: 0.7893,\n",
       " 2563.0: 0.80422,\n",
       " 2528.0: 0.86298,\n",
       " 2518.0: 0.87014,\n",
       " 2568.0: 0.79858,\n",
       " 2623.0: 0.72818,\n",
       " 2608.0: 0.74912,\n",
       " 2548.0: 0.8242,\n",
       " 2633.0: 0.7108,\n",
       " 2598.0: 0.76412,\n",
       " 2628.0: 0.72378,\n",
       " 2558.0: 0.81044,\n",
       " 2613.0: 0.7419,\n",
       " 2588.0: 0.78026,\n",
       " 2583.0: 0.7853,\n",
       " 2523.0: 0.86764,\n",
       " 2593.0: 0.77212,\n",
       " 2638.0: 0.6928,\n",
       " 2543.0: 0.83196}"
      ]
     },
     "execution_count": 13,
     "metadata": {},
     "output_type": "execute_result"
    }
   ],
   "source": [
    "#Test 4: Expanding the scope to 3 Octene files\n",
    "test = ['0001467554_1-OCTene.txt','0001554849_1-octEne.txt','0007688481_1-ocTEne.txt']\n",
    "test_dict = {}            \n",
    "\n",
    "for file in test:\n",
    "    \n",
    "    # Test 2a:\n",
    "    with open(file,'r') as file:\n",
    "        lines = file.readlines()   \n",
    "\n",
    "    # Test 2b:\n",
    "    content_elements = [\"# Wavenumber\", \"Transmittence\\n\"]\n",
    "    delimiter = []\n",
    "    revised_file = []\n",
    "\n",
    "    for line in lines:\n",
    "        if line[0] == \"#\":\n",
    "            for letter in content_elements:\n",
    "                line = line.replace(letter, \"\")\n",
    "                delimiter = line\n",
    "        else: \n",
    "            new_line = line.replace('\\n','')\n",
    "            revised_file.append(new_line)\n",
    " \n",
    "    \n",
    "    # Test 3:\n",
    "    for data in revised_file:\n",
    "        wn_tm = data.split(delimiter)\n",
    "        test_dict[float(wn_tm[0])] = float(wn_tm[1])\n",
    "        \n",
    "test_dict    \n",
    "\n"
   ]
  },
  {
   "cell_type": "code",
   "execution_count": null,
   "id": "3f2b8e05",
   "metadata": {},
   "outputs": [],
   "source": [
    "#Test 4: Expanding the scope to 3 Octene files\n",
    "test = ['0001467554_1-OCTene.txt','0001554849_1-octEne.txt','0007688481_1-ocTEne.txt']\n",
    "test_dict = {}            \n",
    "count = 1\n",
    "\n",
    "while count < len(test):\n",
    "    \n",
    "    # Test 2a:\n",
    "    with open(test[count-1],'r') as file:\n",
    "        lines = file.readlines()   \n",
    "\n",
    "    # Test 2b:\n",
    "    content_elements = [\"# Wavenumber\", \"Transmittence\\n\"]\n",
    "    delimiter = []\n",
    "    revised_file = []\n",
    "\n",
    "    for line in lines:\n",
    "        if line[0] == \"#\":\n",
    "            for letter in content_elements:\n",
    "                line = line.replace(letter, \"\")\n",
    "                delimiter = line\n",
    "        else: \n",
    "            new_line = line.replace('\\n','')\n",
    "            revised_file.append(new_line)\n",
    " \n",
    "    \n",
    "    # Test 3:\n",
    "    for data in revised_file:\n",
    "        wn_tm = data.split(delimiter)\n",
    "        test_dict[float(wn_tm[0])] = float(wn_tm[1])\n",
    "        count += 1\n",
    "        \n",
    "test_dict    \n",
    "\n"
   ]
  },
  {
   "cell_type": "code",
   "execution_count": null,
   "id": "9f142361",
   "metadata": {},
   "outputs": [],
   "source": []
  }
 ],
 "metadata": {
  "kernelspec": {
   "display_name": "Python 3 (ipykernel)",
   "language": "python",
   "name": "python3"
  },
  "language_info": {
   "codemirror_mode": {
    "name": "ipython",
    "version": 3
   },
   "file_extension": ".py",
   "mimetype": "text/x-python",
   "name": "python",
   "nbconvert_exporter": "python",
   "pygments_lexer": "ipython3",
   "version": "3.10.8"
  },
  "toc": {
   "base_numbering": 1,
   "nav_menu": {},
   "number_sections": true,
   "sideBar": true,
   "skip_h1_title": false,
   "title_cell": "Table of Contents",
   "title_sidebar": "Contents",
   "toc_cell": false,
   "toc_position": {},
   "toc_section_display": true,
   "toc_window_display": false
  },
  "varInspector": {
   "cols": {
    "lenName": 16,
    "lenType": 16,
    "lenVar": 40
   },
   "kernels_config": {
    "python": {
     "delete_cmd_postfix": "",
     "delete_cmd_prefix": "del ",
     "library": "var_list.py",
     "varRefreshCmd": "print(var_dic_list())"
    },
    "r": {
     "delete_cmd_postfix": ") ",
     "delete_cmd_prefix": "rm(",
     "library": "var_list.r",
     "varRefreshCmd": "cat(var_dic_list()) "
    }
   },
   "types_to_exclude": [
    "module",
    "function",
    "builtin_function_or_method",
    "instance",
    "_Feature"
   ],
   "window_display": false
  }
 },
 "nbformat": 4,
 "nbformat_minor": 5
}
