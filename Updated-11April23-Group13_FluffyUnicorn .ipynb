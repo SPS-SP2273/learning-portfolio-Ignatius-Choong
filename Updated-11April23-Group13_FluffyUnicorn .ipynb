{
 "cells": [
  {
   "cell_type": "markdown",
   "id": "2300881b",
   "metadata": {},
   "source": [
    "# What is Thin Layer Chromatography?\n",
    "Thin layer Chromatography, also known as TLC,  is an analytical method to separate and identify compounds or mixtures. Compounds are placed near the bottom of the silica gel, which acts as the stationary phase. The plate is then dipped in the solvent, which acts as the mobile phase. Compounds then travel up to different points on the plate based on their interactions with the stationary and mobile phases respectively.\n",
    "\n",
    "Do take note that the relative distance a compound travels on the plate in relation to the mobile phase's travel distance is measured by the **Rf value** . \n",
    "\n",
    "- X is the distance travelled by the solute\n",
    "- Y is the distrance travelled by the solvent"
   ]
  },
  {
   "cell_type": "markdown",
   "id": "d25a9873",
   "metadata": {},
   "source": [
    "<img src = \"Picture1.jpg\" width=800>"
   ]
  },
  {
   "cell_type": "markdown",
   "id": "f26cefa5",
   "metadata": {},
   "source": [
    "## Principle of movement\n",
    "Think of it this way, imagine a running track made of a magnet, with some runners wearing metallic shoes and others wearing rubber shoes. On this track, those with metallic shoes will run slower than those in rubber shoes. This concept is similar to how TLC works. The silica gel (race track) is an adsorbent material that attracts polar molecules. The stronger the interaction between the compound and the silica gel (similar to the magnetic shoes and the magnetic track), the more difficult it is for the compound to move up the silica gel, allowing us to separate compounds based on their **polarity.**\n",
    "\n",
    "\n",
    "<img src = \"picture6.png\" width=600>"
   ]
  },
  {
   "cell_type": "markdown",
   "id": "fa5e76b6",
   "metadata": {},
   "source": [
    "With this analogy in mind, we can understand that:\n",
    "1) If the interactions between the compound and the stationary phase are strong, it is harder for the compound to move up\n",
    "and\n",
    "2) If the interactions between the compound and mobile phase are strong, the compound move up easily. \n",
    "\n",
    "**Lets put our understanding to test. Does A or B have a stronger interaction with the stationary phase?** \n",
    "<img src = \"picture2.png\" width=200 height=100>\n",
    "\n",
    "**Thats right!** We can determine that **solute B** has a **stronger interaction** with the stationary phase."
   ]
  },
  {
   "cell_type": "markdown",
   "id": "a02f5128",
   "metadata": {},
   "source": [
    "## Factors that influence Rf values\n",
    "To reiterate, the **Rf value** is the relative distance a compound moves on the plate in relation to the distance travelled by the mobile phase\n",
    "\n",
    "![](https://study.com/cimages/multimages/16/factor_de_retenci_diagram5309902896768303304.png)\n",
    "\n",
    "The **key factor** influencing the Rf value is the **polarity** of the **solvent**. The **solvent polarity** can be quantified by its **dielectric constant**, where a higher dielectric constant suggests a more polar solvent. In turn, the **more polar solvent strengthens the attraction between the solvent and compound, carrying the compound higher.**\n",
    "\n",
    "<u> Hence our key takeaway from this is that the polarity of solvent can be estimated by dielectric constant<u>"
   ]
  },
  {
   "cell_type": "markdown",
   "id": "36d38982",
   "metadata": {},
   "source": [
    "# Explain Dielectric constant\n",
    "The **solvent polarity** can be quantified by its **dielectric constant**, where a higher dielectric constant suggests a more polar solvent."
   ]
  },
  {
   "cell_type": "markdown",
   "id": "b3d02b64",
   "metadata": {},
   "source": [
    "# Struggles that scientists face with TLC\n",
    "- Difficulty determining suitable solvent to be used for experimentation. (LibreTexts, 2019)\n",
    "- Large amount of chemical waste due to testing of different solvents.\n",
    "- Time wasted for waiting for solvent to separate. (Poole, 2003)\n",
    "- Choosing a proper solvent requires trials with known solvents and more rounds of separation using a mixture of solvents. (Santiago & Strobel, 2013)\n",
    "- Silica Gel is carcinogenic"
   ]
  },
  {
   "cell_type": "markdown",
   "id": "c6a16337",
   "metadata": {},
   "source": [
    "## Importance of Picking A Suitable Solvent\n"
   ]
  },
  {
   "cell_type": "markdown",
   "id": "3441d20a",
   "metadata": {},
   "source": [
    "Additionally, the solvent acts as the driving force, carrying the compounds up, by attracting the compound. Since different solvents have different attraction abilities, based on their polarity, changing the solvent gives us finer control on the separation. \n",
    "\n",
    "**Suitable solvent:**\n",
    "We want to choose a solvent system such that the Rf value of the different components in the mixture are as different as possible as that would indicate good separation."
   ]
  },
  {
   "cell_type": "markdown",
   "id": "112fcfc8",
   "metadata": {},
   "source": [
    "## How can coding help with the problems above?\n",
    "\n",
    "With a lesser need for trial and error, resources such as chemicals and time can be saved when conducting TLC. Hence, we aim to solve this problem with coding by doing the following:\n",
    "\n",
    "**Application 1:** Calculate Relative Polarity of the resultant mixture from user inputs of solvents and composition\n",
    "\n",
    "**Application 2:** Given inputs of user's current Rf value, solvent used and properties of the compound, calculate the estimated Rf value in another solvent system\n",
    "\n",
    "**Application 3:** With user inputs of their expected Rf value and current Rf value, output the composition of solvents to achieve the expected Rf value\n",
    "\n",
    "**Important Note: in our code, we rely on the linear relationship of the Dielectric constant and the Rf vaue, which has been established by numerous papers**"
   ]
  },
  {
   "cell_type": "markdown",
   "id": "3ae6ff70",
   "metadata": {},
   "source": [
    "## How do we use coding?\n",
    "While we are unable to determine the Rf value directly, we can utilise the relative polarity of the solvent and compound to choose a suitable solvent.\n",
    "\n",
    "Being aware that the polarity of the compounds determine the suitability of the solvent, if we want to to modify the dielectric constants of solvents, different solvents can be mixed together to produce a mixture with a new Dielectric Constant (Dm).But how do calculate the new Dm mathematically? This is where we can use **Amirjahed and Blake Equation!!**\n",
    "\n",
    "<img src=\"picture3.3.png\" alt=\"Amirjahed and Blake Equation (1)\" width=\"300\" style=\"display:inline\" />\n",
    "<img src=\"picture4.png\" alt=\"Amirjahed and Blake Equation (2)\" width=\"300\" style=\"display:inline\" />\n",
    "\n",
    "This equation requires **3 important Variables.**\n",
    "1) Molar volume denoted as **V**\n",
    "2) Molar polarization denoted as **p**\n",
    "3) Mole fraction of each solvent in our mixture, denoted as **X**\n",
    "\n",
    "\n",
    "However, before we get to the final equation, let's walk through the variables needed for the equation, Molar volume and Molar polarization. "
   ]
  },
  {
   "cell_type": "markdown",
   "id": "135565d0",
   "metadata": {},
   "source": [
    "### Molar Volume\n",
    "\n",
    "<img src=\"picture3.1.png\" alt=\"Amirjahed and Blake Equation (1)\" width=\"150\" style=\"display:inline\" />\n",
    "\n",
    "Just like in chemistry class, we learn about something called molar volume. To calculate molar volume, we need to know two things: the molecular weight of the substance and its density. By dividing the molecular weight by the density, we obtian the molar volume of the substance.\n"
   ]
  },
  {
   "cell_type": "markdown",
   "id": "764c2f52",
   "metadata": {},
   "source": [
    "### Molar Polarization \n",
    "\n",
    "<img src=\"picture3.2.png\" alt=\"Amirjahed and Blake Equation (1)\" width=\"300\" style=\"display:inline\" />\n",
    "\n",
    "Since we are aware of the role polarity plays in the separation of solutes, **Molar Polarization** helps us understand these interactions. It determines the polarity of the solvent, in addition to molecular weight and density, requiring the use of the individual solvent's dielectric constant as well.\n",
    "\n",
    "Don't worry, you don't need to know what the dielectric constant is, as we have a database that has this information for us!\n",
    "\n"
   ]
  },
  {
   "cell_type": "markdown",
   "id": "8b9e583c",
   "metadata": {},
   "source": [
    "### Amirjahed and Blake Equation\n",
    "\n",
    "Now that we have calculated the two variables needed for this equation, we can substitute these values into them. By doing so, we will obtain the new dielectric constant of our mixture of solvents!\n",
    "\n",
    "<img src=\"picture3.png\" alt=\"Amirjahed and Blake Equation (1)\" width=\"300\" style=\"display:inline\" />\n",
    "<img src=\"picture4.png\" alt=\"Amirjahed and Blake Equation (2)\" width=\"300\" style=\"display:inline\" />"
   ]
  },
  {
   "cell_type": "markdown",
   "id": "81b83191",
   "metadata": {},
   "source": [
    "# To help understand the code, let us Role-play for awhile. \n",
    "\n",
    "You are a chemist tasked with separating two solutes:\n",
    "\n",
    "- **Caffeine**\n",
    "- **Lidocaine**\n",
    "\n",
    "To achieve this, you decide to carry out a *TLC* experiment using **100% Acetone** as your solvent. \n",
    "\n",
    "**Problem:**\n",
    "\n",
    "However, upon obtaining your results, you find that the Rf values for Caffeine and Lidocaine are too close together:\n",
    "\n",
    "- Caffeine: **0.75**\n",
    "- Lidocaine: **0.83**\n",
    "\n",
    "This makes it difficult to extract the Caffeine solute without risking cross-contamination. \n",
    "\n",
    "**Solution:**\n",
    "\n",
    "Realizing the need for a different solvent, you decide to run another TLC experiment. But, unwilling to go through a tedious trial-and-error process to find the perfect solvent mixture, you recall that your dear friends from **FluffyUnicorn** developed a code to determine the Dielectric constant of a solvent mixture, which could save you time and effort! \n",
    "\n",
    "The mixture concentration you have determined:\n",
    "- Methanol (MeOH) : **20%**\n",
    "- Chloroform (CHCl3) : **75%**\n",
    "- Acetic Acid : **5%**\n",
    "\n",
    "\n",
    "<img src = \"picture5.png\" width=800>"
   ]
  },
  {
   "cell_type": "markdown",
   "id": "348eedd4",
   "metadata": {},
   "source": [
    "# Application 1:  Calculate Relative Polarity of the resultant mixture from user inputs of solvents and composition"
   ]
  },
  {
   "cell_type": "markdown",
   "id": "e9ac5920",
   "metadata": {},
   "source": [
    "## Essentially, by using a known database of solvents, we can extract out each solvents molecular weight, density and dielectric constant respectively"
   ]
  },
  {
   "cell_type": "code",
   "execution_count": 6,
   "id": "4a37bb26",
   "metadata": {},
   "outputs": [],
   "source": [
    "import numpy as np\n",
    "import csv\n",
    "dictionary_properties = {}\n",
    "\n",
    "with open(\"Final_Solvents Reference Sheet.csv\") as f:\n",
    "  reader = csv.reader(f)\n",
    "  reader = list(reader)\n",
    "  for r in reader[1:]:\n",
    "    dictionary_properties[r[0].lower()] = np.array((r[2], r[5], r[7])).astype(float)  # index 0, 2, 5, 7 = name of compound, molecular weight, density and dielectric constant"
   ]
  },
  {
   "cell_type": "markdown",
   "id": "c114eee0",
   "metadata": {},
   "source": [
    "### We can also define getter functions to retrive the necessary data from the list"
   ]
  },
  {
   "cell_type": "code",
   "execution_count": 7,
   "id": "58a66ddb",
   "metadata": {},
   "outputs": [],
   "source": [
    "#NEW\n",
    "def get_molar_mass(value):\n",
    "    return value[0]\n",
    "\n",
    "def get_density(value):\n",
    "    return value[1]\n",
    "\n",
    "def get_dielectric_constant(value):\n",
    "    return value[2]"
   ]
  },
  {
   "cell_type": "markdown",
   "id": "5973591d",
   "metadata": {},
   "source": [
    "## With this data, we can calculate molar polarization and molar volume as mentioned previously"
   ]
  },
  {
   "cell_type": "code",
   "execution_count": 8,
   "id": "ff438a5e",
   "metadata": {},
   "outputs": [],
   "source": [
    "# Helper function 1 to calculate the molar polarity of the solvent \n",
    "def molar_pol(value):\n",
    "    molar_mass, density, dielectric = get_molar_mass(value), get_density(value), get_dielectric_constant(value)\n",
    "    answer = abs((dielectric -1)/(dielectric + 2)) * molar_mass / density\n",
    "    #print(answer)\n",
    "    return answer\n",
    "\n",
    "# Helper function 2 to calculate the molar volume of the solvent \n",
    "def molar_volume(value):\n",
    "    return value[0] / value[1]    "
   ]
  },
  {
   "cell_type": "markdown",
   "id": "e1db47df",
   "metadata": {},
   "source": [
    "## As for mole fraction, our code will seek the user to input the ratio of each solvent as a float. Using this ratio and our database, we can mathematically determine the Mole fraction."
   ]
  },
  {
   "cell_type": "code",
   "execution_count": 9,
   "id": "4103f1e5",
   "metadata": {},
   "outputs": [],
   "source": [
    "# Helper function 3 to get the volumetric ratios of solvent\n",
    "\n",
    "def ratio(list_of_solvent):\n",
    "    try:\n",
    "        print(f\"what is the ratio for {list_of_solvent}.\")\n",
    "        print(\"If it is a 40% to 60% ratio or 30% to 50% to 20%, please input 40,60 or 30,50,20 respectively\")\n",
    "        number = np.array(input(\"please ensure that the the ratios add up to 100 \").split(',')).astype(float)\n",
    "        while sum(number) != 100:\n",
    "            print(\"The ratios do not add to 100. Please try again\")\n",
    "            number = np.array(input(\"please ensure that the the ratios add up to 100 \").split(',')).astype(float)\n",
    "        while len(number) != len(list_of_solvent):\n",
    "            print(\"The number of ratios inputted do not match with the number of solvents. Please try again\")\n",
    "            number = np.array(input(\"please ensure that the the ratios add up to 100 \").split(',')).astype(float)\n",
    "        #print(dict(zip(list_of_solvent, number)))\n",
    "        return dict(zip(list_of_solvent, number))\n",
    "    except ValueError:\n",
    "        print(\"Please input a value (e.g. 40.10, 50, 9.90) \")\n",
    "        return ratio(solvent)\n",
    "    \n",
    "# Helper function 4 to calculate the mole fraction of the solvent  \n",
    "def no_of_mole(vol, properties): \n",
    "    mole_fraction = vol * get_density(properties) / get_molar_mass(properties)  # vol * density / molecular weight\n",
    "    return mole_fraction  "
   ]
  },
  {
   "cell_type": "markdown",
   "id": "8243afb2",
   "metadata": {},
   "source": [
    "## Lastly, with all the variables needed for the Amirjahed and Blake Equation, we will calculate both the numerator and denominator separately before coming together to finally determine the dielectric constant of our mixture"
   ]
  },
  {
   "cell_type": "code",
   "execution_count": 10,
   "id": "2948918c",
   "metadata": {},
   "outputs": [],
   "source": [
    "# Helper function 5 to get the number of reagents \n",
    "def reagent_number():\n",
    "  try:\n",
    "    number = int(input('How many reagents are you mixing '))\n",
    "    return number\n",
    "  except:\n",
    "    print(\"Please input an integer (e.g. 1, 2, 3) \")\n",
    "    return reagent_number()\n",
    "\n",
    "# Helper function 6 to get access the database from user's solvent\n",
    "def chemist_final(reagent):\n",
    "  try: \n",
    "    chemical = input(f\"What is your {reagent}? \").lower().strip()\n",
    "    x = dictionary_properties[chemical]\n",
    "    print(f\"{chemical} has molecular weight of {get_molar_mass(x)}, density of {get_density(x)} and dielectric constant of {get_dielectric_constant(x)}\")\n",
    "    return (chemical, dictionary_properties[chemical])\n",
    "  except:\n",
    "    print(f\"Seems that you have either inputted a {reagent} that is not properly specified/spelled. Please try again \")\n",
    "    return chemist_final(reagent)\n",
    "\n",
    "# Main function to output the new dielectric constant from a mixture of reagents\n",
    "def dielectric_constant():\n",
    "    number_of_reagents = reagent_number()                                               # Helper function 5\n",
    "    dict_of_reagents = {}\n",
    "    print(\"Disclaimer: Please ensure that the reagents are miscible. This program will not work if they are not miscible with one another.\")\n",
    "    for i in range(number_of_reagents):\n",
    "        name,properties = chemist_final(f\"solvent {i+1} \")                              # Helper function 6\n",
    "        dict_of_reagents[name] = properties\n",
    "    \n",
    "    # Amirjahed and Blake Equation    \n",
    "    numerator = 0\n",
    "    denominator = 0\n",
    "    dict_of_mole_ratio = ratio(list(dict_of_reagents.keys()))                           # Helper function 3\n",
    "    list_mole_number = [no_of_mole(dict_of_mole_ratio[i], dictionary_properties[i]) \n",
    "                        for i in dict_of_reagents]                                      # Helper function 4\n",
    "    dict_of_mole_fraction = dict(zip(dict_of_reagents.keys(), [i/sum(list_mole_number) for i in list_mole_number]))\n",
    "    for i in dict_of_reagents:                                                                 \n",
    "        mole_fraction = dict_of_mole_fraction[i]                                                                                              \n",
    "        mole_volume = molar_volume(dict_of_reagents[i])                                 # Helper function 2\n",
    "        numerator += (mole_fraction*(mole_volume + 2 * molar_pol(dict_of_reagents[i]))) # Helper function 1\n",
    "        denominator += (mole_fraction*(mole_volume - molar_pol(dict_of_reagents[i])))   # Helper function 1\n",
    "    answer = numerator/denominator\n",
    "    string_list = [f'{i:.3f}' for i in dict_of_mole_fraction.values()]\n",
    "    print(f\"a mixture of [{', '.join(list(dict_of_reagents.keys()))}] with mole fraction [{', '.join(string_list)}]\")\n",
    "    print(f\"has a dielectric constant of {answer:.3f}\")\n",
    "    return answer, list(dict_of_reagents.keys())"
   ]
  },
  {
   "cell_type": "markdown",
   "id": "f4e970f2",
   "metadata": {},
   "source": [
    "## Put everything together and this is how the final code runs:"
   ]
  },
  {
   "cell_type": "markdown",
   "id": "7b6ce896",
   "metadata": {},
   "source": [
    "**User input**: composition and type of solvent\n",
    "\n",
    "**Output**: relative polarity of the resultant mixture"
   ]
  },
  {
   "cell_type": "code",
   "execution_count": null,
   "id": "54b1e7f6",
   "metadata": {},
   "outputs": [],
   "source": [
    "new_dielectric_constant =  dielectric_constant()"
   ]
  },
  {
   "cell_type": "markdown",
   "id": "5cd6347a",
   "metadata": {},
   "source": [
    "# Application 2:  Given inputs of user's current Rf value, solvent used and properties of the compound, calculate the estimated Rf value in another solvent system"
   ]
  },
  {
   "cell_type": "markdown",
   "id": "5c408fd9",
   "metadata": {},
   "source": [
    "## Now lets say our chemist has ran one round of TLC from the previous example (Acetone) and wants to figure out the estimated Rf value in another solvent system (Methanol, Chloroform, Acetic Acid). Before we get into the code itself we have to understand the theory behind how the Rf value is estimated"
   ]
  },
  {
   "cell_type": "markdown",
   "id": "4a349ee4",
   "metadata": {},
   "source": [
    "**Mechanism of the code**\n",
    "<img src = \"picture8.png\" width=800>"
   ]
  },
  {
   "cell_type": "markdown",
   "id": "592d44e0",
   "metadata": {},
   "source": [
    "## Now that we understand how it works, lets see how it is done. First we will require them to input their current Rf value and solvents used."
   ]
  },
  {
   "cell_type": "code",
   "execution_count": 11,
   "id": "1fb7a965",
   "metadata": {},
   "outputs": [],
   "source": [
    "def ask_rf(info):\n",
    "    try: \n",
    "        rf = float(input(f\"what is your {info} \"))\n",
    "        return rf\n",
    "    except ValueError:\n",
    "        print(\"Please input a float value e.g. 0.5, 0.7 and try again\")\n",
    "        return ask_rf(info)\n",
    "    \n",
    "def extended_estimate_rf_value():\n",
    "    current_rf = ask_rf(\"current rf value\")\n",
    "    if input(\"Are you using a mixture of solvents or a singular solvent? reply with 'singular' or 'mixture'. \").lower().strip() == \"singular\":\n",
    "        name_of_solvent, properties = chemist_final(\"solvent\")\n",
    "        current_dielectric_constant = properties[2]\n",
    "    else:\n",
    "        current_dielectric_constant, name_of_solvent = dielectric_constant()\n",
    "    new_solvent, properties = chemist_final(\"desired solvent\")\n",
    "    dielectric_constant_new_solvent = properties[2]\n"
   ]
  },
  {
   "cell_type": "markdown",
   "id": "4d782858",
   "metadata": {},
   "source": [
    "## Take note that we also need to take into consideration the properties of the solute. We ask if the solute is charged. If it is charged, this means that the solute will interact more with the stationary phase, therefore, the solvent will not move up as much. This is why we estimate the Rf value to be lesser according to this formula here."
   ]
  },
  {
   "cell_type": "code",
   "execution_count": 12,
   "id": "e574f644",
   "metadata": {},
   "outputs": [],
   "source": [
    "# Helper function - to get the charge of the solute \n",
    "def is_charged():\n",
    "    charged = input(\"is the solute charged? True or False \").lower().strip()\n",
    "    if charged == \"true\":\n",
    "        while True:\n",
    "            try:\n",
    "                charges = int(input(f\"How many positive charges does the solute have \"))\n",
    "                return charges\n",
    "            except ValueError:\n",
    "                print(\"Please input an integer in this range (1,2,3,4,5)\")\n",
    "    return 0"
   ]
  },
  {
   "cell_type": "markdown",
   "id": "99da82fd",
   "metadata": {},
   "source": [
    "## We can now determine the estimated Y value before it can be run through our main function"
   ]
  },
  {
   "cell_type": "code",
   "execution_count": 13,
   "id": "6d5f52ac",
   "metadata": {},
   "outputs": [
    {
     "name": "stdout",
     "output_type": "stream",
     "text": [
      "what is your current rf value .2\n",
      "Are you using a mixture of solvents or a singular solvent? reply with 'singular' or 'mixture'. singular\n",
      "What is your solvent? water\n",
      "water has molecular weight of 18.02, density of 0.998 and dielectric constant of 78.54\n",
      "What is your desired solvent? water\n",
      "water has molecular weight of 18.02, density of 0.998 and dielectric constant of 78.54\n"
     ]
    }
   ],
   "source": [
    "def get_estimate(slope, current_rf, current_dielectric, new_dielectric):\n",
    "    intercept = current_rf - slope * current_dielectric\n",
    "    return slope * new_dielectric + intercept\n",
    "\n",
    "extended_estimate_rf_value()"
   ]
  },
  {
   "cell_type": "markdown",
   "id": "1f2bb632",
   "metadata": {},
   "source": [
    "## Now with the information provided by the user, with reference to the mechanism of our code previously explained. We will also be asking users for the number of carboxyl group, if solute is not charged. Using this number, we are able to determine the gradient of the graph and the estimated Rf value in the new solvent system. If the solute is charged, we will be referencing the gradient value of 0.1 based on literature review"
   ]
  },
  {
   "cell_type": "code",
   "execution_count": 1,
   "id": "1f3362e7",
   "metadata": {},
   "outputs": [
    {
     "ename": "IndentationError",
     "evalue": "unexpected indent (3146043200.py, line 2)",
     "output_type": "error",
     "traceback": [
      "\u001b[1;36m  Cell \u001b[1;32mIn[1], line 2\u001b[1;36m\u001b[0m\n\u001b[1;33m    solute_charge = is_charged() # if solute is charged, rf value is calculated using slope of 0.1\u001b[0m\n\u001b[1;37m    ^\u001b[0m\n\u001b[1;31mIndentationError\u001b[0m\u001b[1;31m:\u001b[0m unexpected indent\n"
     ]
    }
   ],
   "source": [
    "#Equation of line -> Rf value = slope * dielectric constant + y-intercept\n",
    "    solute_charge = is_charged() # if solute is charged, rf value is calculated using slope of 0.1\n",
    "    if (solute_charge):\n",
    "        estimated_rf = get_estimate(0.1, current_rf, current_dielectric_constant, dielectric_constant_new_solvent)\n",
    "        estimated_rf /= (2)**solute_charge\n",
    "    else:\n",
    "        # using graph y = (-1/(x+1) + 1)\n",
    "        # gradient = (x+1)^-2\n",
    "        value = int(input(f\"How many carboxyl functional groups does the solute have? \"))\n",
    "        new_slope = (value+1)**-2\n",
    "        intercept = current_rf - new_slope * current_dielectric_constant\n",
    "        estimated_rf = get_estimate(new_slope, current_rf, current_dielectric_constant, dielectric_constant_new_solvent)\n",
    "    if (estimated_rf <= 0):\n",
    "        print(f\"Estimated Rf value is approximately 0\")\n",
    "        return\n",
    "    if (estimated_rf > 1):\n",
    "        print(\"Estimated Rf value is close to 1\")\n",
    "        return\n",
    "    print(f\"Estimated Rf value for a solute with {solute_charge} charges = {estimated_rf:.3f} \")"
   ]
  },
  {
   "cell_type": "markdown",
   "id": "b06994ff",
   "metadata": {},
   "source": [
    "## Put everything together and this is how the final code runs:\n"
   ]
  },
  {
   "cell_type": "markdown",
   "id": "1ee6bece",
   "metadata": {},
   "source": [
    "**User input**: current Rf value, solvent used and properties of the compound\n",
    "\n",
    "**Output**: estimated Rf value in another solvent system"
   ]
  },
  {
   "cell_type": "code",
   "execution_count": 34,
   "id": "4923b530",
   "metadata": {},
   "outputs": [
    {
     "name": "stdout",
     "output_type": "stream",
     "text": [
      "What is your current rf value singular\n",
      "Please input a float value e.g. 0.5, 0.7 and try again\n",
      "What is your current rf value .9\n",
      "Are you using a mixture of solvents or a singular solvent? reply with 'singular' or 'mixture'. singular\n",
      "What is your solvent? acetonitrle\n",
      "Seems that you have either inputted a solvent that is not properly specified/spelled. Please try again \n",
      "What is your solvent? acetonitrile\n",
      "acetonitrile has molecular weight of 41.052, density of 0.7857 and dielectric constant of 36.64\n",
      "\n",
      "What is your desired solvent(s)\n",
      "Are you using a mixture of solvents or a singular solvent? reply with 'singular' or 'mixture'. singular\n",
      "What is your solvent? dcm\n",
      "dcm has molecular weight of 84.93, density of 1.326 and dielectric constant of 9.08\n",
      "is the solute charged? True or False false\n",
      "How many carboxyl functional groups does the solute have? 1\n",
      "33.08 37.0 0.25\n",
      "-25.252525252525253 -33.261966746065326\n",
      "6.24579742560975e-266\n",
      "Estimated Rf value is approximately 0\n"
     ]
    }
   ],
   "source": [
    "def extended_estimate_rf_value():\n",
    "    current_rf = ask_rf(\"current rf value\")\n",
    "    if input(\"Are you using a mixture of solvents or a singular solvent? reply with 'singular' or 'mixture'. \").lower().strip() == \"singular\":\n",
    "        name_of_solvent, properties = chemist_final(\"solvent\")\n",
    "        current_dielectric_constant = properties[2]\n",
    "    else:\n",
    "        current_dielectric_constant, name_of_solvent = dielectric_constant()\n",
    "    \n",
    "    print(\"\\n\" + \"What is your desired solvent(s)\")\n",
    "    if input(\"Are you using a mixture of solvents or a singular solvent? reply with 'singular' or 'mixture'. \").lower().strip() == \"singular\":\n",
    "        name_of_new_solvent, properties = chemist_final(\"solvent\")\n",
    "        dielectric_constant_new_solvent = properties[2]\n",
    "    else:\n",
    "        dielectric_constant_new_solvent, name_of_new_solvent = dielectric_constant()\n",
    "        \n",
    "  #Equation of line -> Rf value = slope * dielectric constant + y-intercept\n",
    "    solute_charge = is_charged() # if solute is charged, rf value is calculated using slope of 0.1\n",
    "    if (solute_charge):\n",
    "        estimated_rf = get_estimate(0.1, current_rf, current_dielectric_constant, dielectric_constant_new_solvent)\n",
    "        estimated_rf /= (2)**solute_charge\n",
    "    else:\n",
    "        # using graph y = (-1/(x+1) + 1)\n",
    "        # gradient = (x+1)^-2\n",
    "        #NEED TO EXPLAIN THAT THIS IS JUST A PLACEHOLDER FUNCTION\n",
    "        value = int(input(f\"How many carboxyl functional groups does the solute have? \"))\n",
    "        new_slope = (value+1)**-2\n",
    "        intercept = current_rf - new_slope * current_dielectric_constant\n",
    "        estimated_rf = get_estimate(new_slope, current_rf, current_dielectric_constant, dielectric_constant_new_solvent)\n",
    "    if (estimated_rf - 0) <.000001:\n",
    "        print(f\"Estimated Rf value is approximately 0\")\n",
    "        return\n",
    "    if (estimated_rf - 1) <.000001:\n",
    "        print(\"Estimated Rf value is close to 1\")\n",
    "        return\n",
    "    print(f\"Estimated Rf value for a solute with {solute_charge} charges = {estimated_rf:.3f} \")\n",
    "       \n",
    "    \n",
    "# Helper function 2 - to get the charge of the solute  \n",
    "def is_charged():\n",
    "    charged = input(\"is the solute charged? True or False \").lower().strip()\n",
    "    if charged == \"true\":\n",
    "        while True:\n",
    "            try:\n",
    "                charges = int(input(f\"How many positive charges does the solute have \"))\n",
    "                return charges\n",
    "            except ValueError:\n",
    "                print(\"Please input an integer in this range (1,2,3,4,5)\")\n",
    "    return 0\n",
    "\n",
    "def get_estimate(slope, current_rf, current_dielectric, new_dielectric):\n",
    "    intercept = current_rf - slope * current_dielectric\n",
    "    #equation: rf value = slope * dielectric + intercept\n",
    "    x1 = (0.01 - intercept) / slope # intercept of joining point (x1, 0.01)\n",
    "    x2 = (0.99 - intercept) / slope # intercept of joining point (x2, 0.99)\n",
    "    if x1<=new_dielectric<=x2:\n",
    "        print(slope * new_dielectric + intercept)\n",
    "        return slope * new_dielectric + intercept\n",
    "    k1 = -slope * 100**2 / 99\n",
    "    a1 = math.log(99)/k1 - x1\n",
    "    if new_dielectric < x1:\n",
    "        return 1/(1 + math.exp(k1*(new_dielectric + a1)))\n",
    "    k2 = k1\n",
    "    a2 = math.log(1/99)/k2 - x2\n",
    "    return 1/(1 + math.exp(k2*(new_dielectric + a2)))\n",
    "    \n",
    "\n",
    "def ask_rf(info):\n",
    "    try: \n",
    "        rf = float(input(f\"What is your {info} \"))\n",
    "        return rf\n",
    "    except ValueError:\n",
    "        print(\"Please input a float value e.g. 0.5, 0.7 and try again\")\n",
    "        return ask_rf(info)\n",
    "\n",
    "extended_estimate_rf_value()"
   ]
  },
  {
   "cell_type": "markdown",
   "id": "315d4011",
   "metadata": {},
   "source": [
    "# Application 3:  With user inputs of their expected Rf value and current Rf value, output the composition of solvents to achieve the expected Rf value\n"
   ]
  },
  {
   "cell_type": "markdown",
   "id": "dabbec9c",
   "metadata": {},
   "source": [
    "## Adding on to the previous part, we will ask the user to input their current Rf value and what their expected Rf value was supposed to be."
   ]
  },
  {
   "cell_type": "code",
   "execution_count": null,
   "id": "ee82b23b",
   "metadata": {},
   "outputs": [],
   "source": [
    "# Helper Function 1 to ask the users for their current and desired Rf values\n",
    "def ask_rf(info):\n",
    "    try: \n",
    "        rf = float(input(f\"What is your {info} \"))\n",
    "        return rf\n",
    "    except ValueError:\n",
    "        print(\"Please input a float value e.g. 0.5, 0.7 and try again\")\n",
    "        return ask_rf(info)"
   ]
  },
  {
   "cell_type": "markdown",
   "id": "11ad1401",
   "metadata": {},
   "source": [
    "## With this information our code will advise you if the solvents provided are able to achieve the expected Rf value. If it is unable to do so, helper function 2 will kick in and sort through our database to suggest solvents that could work. "
   ]
  },
  {
   "cell_type": "code",
   "execution_count": null,
   "id": "c558e3e6",
   "metadata": {},
   "outputs": [],
   "source": [
    "# Helper Function 2 to suggest new solvents that can modify their rf value in the situation where their solvents are unable to do so        \n",
    "def suggest_solvents(dm):\n",
    "    new_sorted = sorted(dictionary_common.items(), key = lambda x: x[1][2], reverse = True)\n",
    "    new_solvents = []\n",
    "    for i in new_sorted:\n",
    "        if i[1][2] <dm:\n",
    "            if new_sorted.index(i) > 0:\n",
    "                new_solvents.append(new_sorted[new_sorted.index(i)-1])\n",
    "                new_solvents.append(i)\n",
    "                break\n",
    "    return new_solvents"
   ]
  },
  {
   "cell_type": "markdown",
   "id": "f310eada",
   "metadata": {},
   "source": [
    "## Here we will now determine volumetric ratios of the solvents needed to achieve the expected Rf value by using simultaneous equations."
   ]
  },
  {
   "cell_type": "code",
   "execution_count": null,
   "id": "ff43e5f0",
   "metadata": {},
   "outputs": [],
   "source": [
    "# Helper Function 3 to give the users the ratio of solvents using simultaneous equations\n",
    "def give_ratio(list_of_new_solvents, dm):\n",
    "    \n",
    "    #Amirjahed and Blake Equations\n",
    "    v1 = molar_volume(list_of_new_solvents[0][1])\n",
    "    v2 = molar_volume(list_of_new_solvents[1][1])\n",
    "    p1 = molar_pol(list_of_new_solvents[0][1])\n",
    "    p2 = molar_pol(list_of_new_solvents[1][1])\n",
    "    a1 = v1 + 2 * p1\n",
    "    a2 = v2 + 2 * p2\n",
    "    b1 = v1 - p1\n",
    "    b2 = v2 - p2\n",
    "    ratio_1 = list_of_new_solvents[0][1][1]/list_of_new_solvents[0][1][0] # density/Molar mass for solvent 1\n",
    "    ratio_2 = list_of_new_solvents[1][1][1]/list_of_new_solvents[1][1][0] # density/Molar mass for solvent 2\n",
    "    \n",
    "    #Using linear algebra to solve simultaneous equations\n",
    "    A = np.array([[1,1],[dm*b1 - a1, dm*b2 - a2]])\n",
    "    B = np.array([1,0])\n",
    "    C = np.linalg.solve(A,B)                  # To get the mole_fraction of the 2 solvents\n",
    "    mole_frac_1 = C[0]\n",
    "    A1 = np.array([[1,1],[-(1-mole_frac_1)*ratio_1, mole_frac_1*ratio_2]])\n",
    "    B1 = np.array([1,0])  \n",
    "    C1 = np.linalg.solve(A1,B1)              # To get the volumetric ratio from mole_fraction \n",
    "    vol_1, vol_2 = C1[0] * 100, C1[1] * 100\n",
    "    return vol_1, vol_2"
   ]
  },
  {
   "cell_type": "markdown",
   "id": "f385748d",
   "metadata": {},
   "source": [
    "## With these helper functions we can now use the inputs obtained from the user to provide both the solvents and its composition needed to achieve our expected Rf value. This is how the code runs:"
   ]
  },
  {
   "cell_type": "markdown",
   "id": "384ba08c",
   "metadata": {},
   "source": [
    "**User input**: current Rf, desired Rf, current solvent and solvents that user wants to mix (max 2)\n",
    "\n",
    "**Output**: Ratio of solvents to achieve desired RF using solvents that user wants to mix"
   ]
  },
  {
   "cell_type": "code",
   "execution_count": 10,
   "id": "30b4a412",
   "metadata": {},
   "outputs": [
    {
     "name": "stdout",
     "output_type": "stream",
     "text": [
      "what is your current rf value .3\n",
      "what is your desired rf value .7\n",
      "Are you using a mixture of solvents or a singular solvent? reply with 'singular' or 'mixture'. 3\n",
      "How many reagents are you mixing 3\n",
      "Disclaimer: Please ensure that the reagents are miscible. This program will not work if they are not miscible with one another.\n",
      "What is your solvent 1 ? acetic acid\n",
      "acetic acid has molecular weight of 60.052, density of 1.0446 and dielectric constant of 6.2\n",
      "What is your solvent 2 ? chloroform\n",
      "chloroform has molecular weight of 119.38, density of 1.49 and dielectric constant of 4.81\n",
      "What is your solvent 3 ? methanol\n",
      "methanol has molecular weight of 32.04, density of 0.791 and dielectric constant of 32.6\n",
      "what is the ratio for ['acetic acid', 'chloroform', 'methanol'].\n",
      "If it is a 40% to 60% ratio or 30% to 50% to 20%, please input 40,60 or 30,50,20 respectively\n",
      "please ensure that the the ratios add up to 100 5,75,20\n",
      "a mixture of [acetic acid, chloroform, methanol] with mole fraction [0.057, 0.617, 0.326]\n",
      "has a dielectric constant of 6.196\n",
      "What is your new solvent 1? dcm\n",
      "dcm has molecular weight of 84.93, density of 1.326 and dielectric constant of 9.08\n",
      "What is your new solvent 2? water\n",
      "water has molecular weight of 18.02, density of 0.998 and dielectric constant of 78.54\n",
      "To get desired Rf value of 0.7 and using solvents dcm and water\n",
      "we estimate 89.389% of dcm and 10.611% of water\n"
     ]
    }
   ],
   "source": [
    "import numpy as np\n",
    "import csv\n",
    "dictionary_common = {}\n",
    "\n",
    "with open(\"Final_Common Solvents Reference Sheet.csv\") as f:\n",
    "    reader = csv.reader(f)\n",
    "    reader = list(reader)\n",
    "    columns = reader[0]\n",
    "    for r in reader[1:]:\n",
    "        dictionary_common[r[0]] = np.array((r[2], r[5], r[7])).astype(float)\n",
    "\n",
    "# Helper Function 1 to suggest new solvents that can modify their rf value in the situation where their solvents are unable to do so        \n",
    "def suggest_solvents(dm):\n",
    "    new_sorted = sorted(dictionary_common.items(), key = lambda x: x[1][2], reverse = True)\n",
    "    new_solvents = []\n",
    "    for i in new_sorted:\n",
    "        if i[1][2] <dm:\n",
    "            if new_sorted.index(i) > 0:\n",
    "                new_solvents.append(new_sorted[new_sorted.index(i)-1])\n",
    "                new_solvents.append(i)\n",
    "                break\n",
    "    return new_solvents\n",
    "\n",
    "# Helper Function 2 to give the users the ratio of solvents using simultaneous equations\n",
    "def give_ratio(list_of_new_solvents, dm):\n",
    "    \n",
    "    #Amirjahed and Blake Equations\n",
    "    v1 = molar_volume(list_of_new_solvents[0][1])\n",
    "    v2 = molar_volume(list_of_new_solvents[1][1])\n",
    "    p1 = molar_pol(list_of_new_solvents[0][1])\n",
    "    p2 = molar_pol(list_of_new_solvents[1][1])\n",
    "    a1 = v1 + 2 * p1\n",
    "    a2 = v2 + 2 * p2\n",
    "    b1 = v1 - p1\n",
    "    b2 = v2 - p2\n",
    "    ratio_1 = list_of_new_solvents[0][1][1]/list_of_new_solvents[0][1][0] # density/Molar mass for solvent 1\n",
    "    ratio_2 = list_of_new_solvents[1][1][1]/list_of_new_solvents[1][1][0] # density/Molar mass for solvent 2\n",
    "    \n",
    "    #Using linear algebra to solve simultaneous equations\n",
    "    A = np.array([[1,1],[dm*b1 - a1, dm*b2 - a2]])\n",
    "    B = np.array([1,0])\n",
    "    C = np.linalg.solve(A,B)                  # To get the mole_fraction of the 2 solvents\n",
    "    mole_frac_1 = C[0]\n",
    "    A1 = np.array([[1,1],[-(1-mole_frac_1)*ratio_1, mole_frac_1*ratio_2]])\n",
    "    B1 = np.array([1,0])  \n",
    "    C1 = np.linalg.solve(A1,B1)              # To get the volumetric ratio from mole_fraction \n",
    "    vol_1, vol_2 = C1[0] * 100, C1[1] * 100\n",
    "    return vol_1, vol_2\n",
    "\n",
    "\n",
    "# Helper Function 3 to ask the users for their current and desired Rf values\n",
    "def ask_rf(info):\n",
    "    try: \n",
    "        rf = float(input(f\"What is your {info} \"))\n",
    "        return rf\n",
    "    except ValueError:\n",
    "        print(\"Please input a float value e.g. 0.5, 0.7 and try again\")\n",
    "        return ask_rf(info)\n",
    "\n",
    "# Main function to calculate the ratios of solvents to get their desired Rf values  \n",
    "def give_solvents():\n",
    "    current_rf = ask_rf(\"current rf value\")\n",
    "    desired_rf = ask_rf(\"desired rf value\")\n",
    "    if input(\"Are you using a mixture of solvents or a singular solvent? reply with 'singular' or 'mixture'. \").lower().strip() == \"singular\":\n",
    "        name_of_solvent, properties = chemist_final(\"solvent\")\n",
    "        current_dielectric_constant = properties[2]\n",
    "    else:\n",
    "        current_dielectric_constant, name_of_solvent = dielectric_constant()\n",
    "    slope = 0.1\n",
    "    intercept = current_rf - slope * current_dielectric_constant\n",
    "    new_dielectric_constant = (desired_rf - intercept) /slope  \n",
    "    \n",
    "    list_of_new_solvents = []\n",
    "    for i in range(2):\n",
    "        name,properties = chemist_final(f\"new solvent {i+1}\") \n",
    "        list_of_new_solvents.append((name,properties))   # name of solvent : properties\n",
    "    names = list(map(lambda x: x[0], list_of_new_solvents))   \n",
    "    \n",
    "    dm = new_dielectric_constant\n",
    "    dm1, dm2 = list_of_new_solvents[0][1][2], list_of_new_solvents[1][1][2]\n",
    "    if (dm1 <= dm <= dm2) or (dm2 <= dm <= dm1) :\n",
    "        vol_1, vol_2 = give_ratio(list_of_new_solvents, dm)\n",
    "        print(f\"To get desired Rf value of {desired_rf} and using solvents {' and '.join(names)}\")\n",
    "        print(f\"we estimate {vol_1:.3f}% of {list_of_new_solvents[0][0]} and {vol_2:.3f}% of {list_of_new_solvents[1][0]}\")\n",
    "        return   \n",
    "    else:\n",
    "        print(\"We are unable to create a new mixture of solvent that can bump up to the desired Rf value\")\n",
    "        print(\"These are our suggested solutions and their ratios\" +\"\\n\")\n",
    "        list_of_suggested_solvents = suggest_solvents(dm)\n",
    "        names = list(map(lambda x: x[0], list_of_suggested_solvents))\n",
    "        vol_1, vol_2 = give_ratio(list_of_suggested_solvents, dm)\n",
    "        print(f\"To get desired Rf value of {desired_rf} and we suggest using solvents {' and '.join(names)}\")\n",
    "        print(f\"We estimate {vol_1:.3f}% of {list_of_suggested_solvents[0][0]} and {vol_2:.3f}% of {list_of_suggested_solvents[1][0]}\")\n",
    "        return\n",
    "\n",
    "\n",
    "give_solvents()   "
   ]
  },
  {
   "cell_type": "markdown",
   "id": "2c8cff18",
   "metadata": {},
   "source": [
    "# Limitations of our project"
   ]
  },
  {
   "cell_type": "markdown",
   "id": "ecd54042",
   "metadata": {},
   "source": [
    "1) **Limited Solvent Database:** This code relies on a predefined database of solvents by [Insert Reference?], which will be limited if students/chemists want to explore unconventinal solvents. Hence, they will be unable to fully utilize our code. To address this, future studies aimed to expand the solvent database can be done. \n",
    "\n",
    "2) **Limited Sol"
   ]
  },
  {
   "cell_type": "markdown",
   "id": "ef5e1164",
   "metadata": {},
   "source": [
    "# Future projects"
   ]
  },
  {
   "cell_type": "markdown",
   "id": "2094b07d",
   "metadata": {},
   "source": [
    "## Study the effects of adding various functional groups to the relationship between Rf and Dielectric Constant\n",
    "![](picture9.png)"
   ]
  },
  {
   "cell_type": "markdown",
   "id": "697098b5",
   "metadata": {},
   "source": [
    "# References\n",
    "- Poole, C. F. (2003). Thin-layer chromatography: challenges and opportunities. Journal of Chromatography A, 1000(1-2), 963–984. https://doi.org/10.1016/s0021-9673(03)00435-7\n",
    "- Pierce, D. M. (1981). Selection of solvents for thin-layer chromatography by means of a simple ranking system based on dielectric constants. Xenobiotica, 11(12), 857–862. https://doi.org/10.3109/00498258109045323\n",
    "- LibreTexts. (2019, December 6). Thin Layer Chromatography. Chemistry LibreTexts. https://chem.libretexts.org/Ancillary_Materials/Demos_Techniques_and_Experiments/General_Lab_Techniques/Thin_Layer_Chromatography\n",
    "- Santiago, M., & Strobel, S. (2013). Chapter Twenty-Four-Thin Layer Chromatography. Laboratory Methods in Enzymology: Cell, Lipid and Carbohydrate (ed. Lorsch, JBT-M. in E.) vol, 533, 303-324.\n",
    "- Sabino, B. D., Romão, W., Sodré, M. L., Correa, D. N., Pinto, D. B. R., Alonso, F. O., & Eberlin, M. N. (2011). Analysis of Cocaine and Crack Cocaine via Thin Layer Chromatography Coupled to Easy Ambient Sonic Spray Ionization Mass Spectrometry. American Journal of Analytical Chemistry, 2(6), 658."
   ]
  }
 ],
 "metadata": {
  "kernelspec": {
   "display_name": "Python 3 (ipykernel)",
   "language": "python",
   "name": "python3"
  },
  "language_info": {
   "codemirror_mode": {
    "name": "ipython",
    "version": 3
   },
   "file_extension": ".py",
   "mimetype": "text/x-python",
   "name": "python",
   "nbconvert_exporter": "python",
   "pygments_lexer": "ipython3",
   "version": "3.10.8"
  },
  "toc": {
   "base_numbering": 1,
   "nav_menu": {},
   "number_sections": true,
   "sideBar": true,
   "skip_h1_title": false,
   "title_cell": "Table of Contents",
   "title_sidebar": "Contents",
   "toc_cell": false,
   "toc_position": {},
   "toc_section_display": true,
   "toc_window_display": false
  },
  "varInspector": {
   "cols": {
    "lenName": 16,
    "lenType": 16,
    "lenVar": 40
   },
   "kernels_config": {
    "python": {
     "delete_cmd_postfix": "",
     "delete_cmd_prefix": "del ",
     "library": "var_list.py",
     "varRefreshCmd": "print(var_dic_list())"
    },
    "r": {
     "delete_cmd_postfix": ") ",
     "delete_cmd_prefix": "rm(",
     "library": "var_list.r",
     "varRefreshCmd": "cat(var_dic_list()) "
    }
   },
   "types_to_exclude": [
    "module",
    "function",
    "builtin_function_or_method",
    "instance",
    "_Feature"
   ],
   "window_display": false
  }
 },
 "nbformat": 4,
 "nbformat_minor": 5
}
