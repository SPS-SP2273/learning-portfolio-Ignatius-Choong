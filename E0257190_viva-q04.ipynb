{
 "cells": [
  {
   "cell_type": "code",
   "execution_count": 1,
   "id": "4b3d7136",
   "metadata": {},
   "outputs": [],
   "source": [
    "import numpy as np \n",
    "import glob\n",
    "import os\n",
    "import matplotlib.pyplot as plt"
   ]
  },
  {
   "cell_type": "code",
   "execution_count": null,
   "id": "c1961430",
   "metadata": {},
   "outputs": [],
   "source": [
    "#os.chdir('humpty-dumpty-ir-spectra')\n",
    "os.getcwd()"
   ]
  },
  {
   "cell_type": "code",
   "execution_count": 22,
   "id": "669714ac",
   "metadata": {
    "scrolled": true
   },
   "outputs": [
    {
     "name": "stdout",
     "output_type": "stream",
     "text": [
      "['0001467554_1-OCTene.txt', '0001554849_1-octEne.txt', '0007601806_1-oCTene.txt', '0007688481_1-ocTEne.txt', '0014200651_1-OCTene.txt', '0018529148_1-OCtEnE.txt', '0021685735_1-Octene.txt']\n",
      "['0004429741_eThANOl.txt', '0007822940_eTHAnoL.txt', '0011230596_ethanOl.txt', '0013788335_etHaNOl.txt', '0018962665_ETHaNoL.txt']\n",
      "['0008698590_ToLuEne.txt', '0016134324_TOlueNE.txt', '0019769389_tOLUEne.txt']\n"
     ]
    }
   ],
   "source": [
    "glob.glob('*')\n",
    "\n",
    "octene_files = glob.glob('*1-octene*')\n",
    "ethanol_files = glob.glob('*ethanol*')\n",
    "toluene_files = glob.glob('*toluene*')\n",
    "\n",
    "print(octene_files)\n",
    "print(ethanol_files)\n",
    "print(toluene_files)"
   ]
  },
  {
   "cell_type": "code",
   "execution_count": 19,
   "id": "6cfc8b86",
   "metadata": {},
   "outputs": [
    {
     "name": "stdout",
     "output_type": "stream",
     "text": [
      "['\\t']\n"
     ]
    }
   ],
   "source": [
    "first = '# Wavenumber\\tTransmittence\\n'\n",
    "\n",
    "heading = ['# Wavenumber', 'Transmittence\\n']\n",
    "delimiter=[]\n",
    "for h in heading:\n",
    "    first=first.replace(h,'')\n",
    "delimiter.append(first)\n",
    "print(delimiter)"
   ]
  },
  {
   "cell_type": "code",
   "execution_count": 25,
   "id": "0a4c6b68",
   "metadata": {},
   "outputs": [
    {
     "name": "stdout",
     "output_type": "stream",
     "text": [
      "['# Wavenumber\\tTransmittence\\n', '658.00\\t0.696980\\n', '608.00\\t0.719520\\n', '633.00\\t0.192220\\n', '663.00\\t0.734280\\n', '618.00\\t0.423320\\n', '588.00\\t0.899200\\n', '623.00\\t0.278580\\n', '603.00\\t0.802140\\n', '653.00\\t0.606540\\n', '643.00\\t0.355060\\n', '638.00\\t0.240280\\n', '648.00\\t0.473640\\n', '583.00\\t0.903520\\n', '598.00\\t0.850040\\n', '593.00\\t0.880000\\n', '628.00\\t0.200780\\n', '613.00\\t0.568440\\n']\n",
      "['658.00\\t0.696980', '608.00\\t0.719520', '633.00\\t0.192220', '663.00\\t0.734280', '618.00\\t0.423320', '588.00\\t0.899200', '623.00\\t0.278580', '603.00\\t0.802140', '653.00\\t0.606540', '643.00\\t0.355060', '638.00\\t0.240280', '648.00\\t0.473640', '583.00\\t0.903520', '598.00\\t0.850040', '593.00\\t0.880000', '628.00\\t0.200780', '613.00\\t0.568440']\n"
     ]
    },
    {
     "data": {
      "text/plain": [
       "'\\t'"
      ]
     },
     "execution_count": 25,
     "metadata": {},
     "output_type": "execute_result"
    }
   ],
   "source": [
    "with open('0001467554_1-OCTene.txt','r') as file:\n",
    "    raw_data = file.readlines()\n",
    "    print(raw_data)\n",
    "\n",
    "# tidy up the lines and store in a new list\n",
    "heading = ['# Wavenumber', 'Transmittence\\n']\n",
    "new_file = []\n",
    "for line in raw_data:\n",
    "    # if line is header, retrieve the delimiter\n",
    "    if line[0] == '#':\n",
    "        for h in heading:\n",
    "            line=line.replace(h,'')\n",
    "            delimiter=line\n",
    "        continue\n",
    "    # tidy up the lines and store in a new list\n",
    "    new_line = line.replace('\\n','')\n",
    "    new_file.append(new_line)\n",
    "print(new_file)\n",
    "delimiter          # to show what is the delimiter"
   ]
  }
 ],
 "metadata": {
  "kernelspec": {
   "display_name": "Python 3 (ipykernel)",
   "language": "python",
   "name": "python3"
  },
  "language_info": {
   "codemirror_mode": {
    "name": "ipython",
    "version": 3
   },
   "file_extension": ".py",
   "mimetype": "text/x-python",
   "name": "python",
   "nbconvert_exporter": "python",
   "pygments_lexer": "ipython3",
   "version": "3.10.8"
  },
  "toc": {
   "base_numbering": 1,
   "nav_menu": {},
   "number_sections": true,
   "sideBar": true,
   "skip_h1_title": false,
   "title_cell": "Table of Contents",
   "title_sidebar": "Contents",
   "toc_cell": false,
   "toc_position": {},
   "toc_section_display": true,
   "toc_window_display": false
  },
  "varInspector": {
   "cols": {
    "lenName": 16,
    "lenType": 16,
    "lenVar": 40
   },
   "kernels_config": {
    "python": {
     "delete_cmd_postfix": "",
     "delete_cmd_prefix": "del ",
     "library": "var_list.py",
     "varRefreshCmd": "print(var_dic_list())"
    },
    "r": {
     "delete_cmd_postfix": ") ",
     "delete_cmd_prefix": "rm(",
     "library": "var_list.r",
     "varRefreshCmd": "cat(var_dic_list()) "
    }
   },
   "types_to_exclude": [
    "module",
    "function",
    "builtin_function_or_method",
    "instance",
    "_Feature"
   ],
   "window_display": false
  }
 },
 "nbformat": 4,
 "nbformat_minor": 5
}
