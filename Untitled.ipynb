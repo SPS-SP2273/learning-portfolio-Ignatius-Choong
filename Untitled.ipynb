{
 "cells": [
  {
   "cell_type": "code",
   "execution_count": null,
   "id": "ab9623d3",
   "metadata": {},
   "outputs": [],
   "source": [
    "import numpy as np \n",
    "import glob\n",
    "import os\n",
    "import matplotlib.pyplot as plt"
   ]
  },
  {
   "cell_type": "code",
   "execution_count": null,
   "id": "ef4ef72e",
   "metadata": {},
   "outputs": [],
   "source": [
    "os.chdir('humpty-dumpty-ir-spectra')\n",
    "os.getcwd()\n"
   ]
  },
  {
   "cell_type": "code",
   "execution_count": null,
   "id": "46f0104e",
   "metadata": {},
   "outputs": [],
   "source": [
    "#Test 4: Expanding the scope to 3 Octene files\n",
    "test = ['0001467554_1-OCTene.txt','0001554849_1-octEne.txt','0007688481_1-ocTEne.txt']\n",
    "test_dict = {}            \n",
    "index = 0\n",
    "while index < len(test):\n",
    "    \n",
    "    # Test 2a:\n",
    "    with open(test[index],'r') as file:\n",
    "        lines = file.readlines()   \n",
    "\n",
    "    # Test 2b:\n",
    "    content_elements = [\"# Wavenumber\", \"Transmittence\\n\"]\n",
    "    delimiter = []\n",
    "    revised_file = []\n",
    "\n",
    "    for line in lines:\n",
    "        if line[0] == \"#\":\n",
    "            for letter in content_elements:\n",
    "                line = line.replace(letter, \"\")\n",
    "                delimiter = line\n",
    "        elif line[0] != \"#\": \n",
    "            new_line = line.replace('\\n','')\n",
    "            revised_file.append(new_line)\n",
    " \n",
    "    \n",
    "    # Test 3:\n",
    "    for data in revised_file:\n",
    "        wn_tm = data.split(delimiter)\n",
    "        test_dict[float(wn_tm[0])] = float(wn_tm[1])\n",
    "    index += 1\n",
    "        \n",
    "test_dict    \n"
   ]
  }
 ],
 "metadata": {
  "kernelspec": {
   "display_name": "Python 3 (ipykernel)",
   "language": "python",
   "name": "python3"
  },
  "toc": {
   "base_numbering": 1,
   "nav_menu": {},
   "number_sections": true,
   "sideBar": true,
   "skip_h1_title": false,
   "title_cell": "Table of Contents",
   "title_sidebar": "Contents",
   "toc_cell": false,
   "toc_position": {},
   "toc_section_display": true,
   "toc_window_display": false
  },
  "varInspector": {
   "cols": {
    "lenName": 16,
    "lenType": 16,
    "lenVar": 40
   },
   "kernels_config": {
    "python": {
     "delete_cmd_postfix": "",
     "delete_cmd_prefix": "del ",
     "library": "var_list.py",
     "varRefreshCmd": "print(var_dic_list())"
    },
    "r": {
     "delete_cmd_postfix": ") ",
     "delete_cmd_prefix": "rm(",
     "library": "var_list.r",
     "varRefreshCmd": "cat(var_dic_list()) "
    }
   },
   "types_to_exclude": [
    "module",
    "function",
    "builtin_function_or_method",
    "instance",
    "_Feature"
   ],
   "window_display": false
  }
 },
 "nbformat": 4,
 "nbformat_minor": 5
}
