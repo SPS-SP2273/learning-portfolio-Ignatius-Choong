{
 "cells": [
  {
   "cell_type": "code",
   "execution_count": 1,
   "id": "f882b912",
   "metadata": {},
   "outputs": [],
   "source": [
    "import numpy as np \n",
    "import glob\n",
    "import os\n",
    "import matplotlib.pyplot as plt"
   ]
  },
  {
   "cell_type": "code",
   "execution_count": 2,
   "id": "6d978c71",
   "metadata": {},
   "outputs": [
    {
     "data": {
      "text/plain": [
       "'C:\\\\Users\\\\IGNATIUS\\\\OneDrive\\\\Documents\\\\GitHub\\\\learning-portfolio-Ignatius-Choong\\\\humpty-dumpty-ir-spectra'"
      ]
     },
     "execution_count": 2,
     "metadata": {},
     "output_type": "execute_result"
    }
   ],
   "source": [
    "os.chdir('humpty-dumpty-ir-spectra')\n",
    "os.getcwd()\n"
   ]
  },
  {
   "cell_type": "code",
   "execution_count": 3,
   "id": "65171bb5",
   "metadata": {},
   "outputs": [
    {
     "data": {
      "text/plain": [
       "{658.0: 0.69698,\n",
       " 608.0: 0.71952,\n",
       " 633.0: 0.19222,\n",
       " 663.0: 0.73428,\n",
       " 618.0: 0.42332,\n",
       " 588.0: 0.8992,\n",
       " 623.0: 0.27858,\n",
       " 603.0: 0.80214,\n",
       " 653.0: 0.60654,\n",
       " 643.0: 0.35506,\n",
       " 638.0: 0.24028,\n",
       " 648.0: 0.47364,\n",
       " 583.0: 0.90352,\n",
       " 598.0: 0.85004,\n",
       " 593.0: 0.88,\n",
       " 628.0: 0.20078,\n",
       " 613.0: 0.56844,\n",
       " 563.0: 0.7664,\n",
       " 533.0: 0.92338,\n",
       " 538.0: 0.87666,\n",
       " 573.0: 0.86962,\n",
       " 548.0: 0.62808,\n",
       " 558.0: 0.69638,\n",
       " 553.0: 0.60474,\n",
       " 543.0: 0.75722,\n",
       " 568.0: 0.81304,\n",
       " 2533.0: 0.85498,\n",
       " 2643.0: 0.6748,\n",
       " 2573.0: 0.79388,\n",
       " 2538.0: 0.84356,\n",
       " 2603.0: 0.7565,\n",
       " 2513.0: 0.8797,\n",
       " 2618.0: 0.73486,\n",
       " 2553.0: 0.81712,\n",
       " 2578.0: 0.7893,\n",
       " 2563.0: 0.80422,\n",
       " 2528.0: 0.86298,\n",
       " 2518.0: 0.87014,\n",
       " 2568.0: 0.79858,\n",
       " 2623.0: 0.72818,\n",
       " 2608.0: 0.74912,\n",
       " 2548.0: 0.8242,\n",
       " 2633.0: 0.7108,\n",
       " 2598.0: 0.76412,\n",
       " 2628.0: 0.72378,\n",
       " 2558.0: 0.81044,\n",
       " 2613.0: 0.7419,\n",
       " 2588.0: 0.78026,\n",
       " 2583.0: 0.7853,\n",
       " 2523.0: 0.86764,\n",
       " 2593.0: 0.77212,\n",
       " 2638.0: 0.6928,\n",
       " 2543.0: 0.83196}"
      ]
     },
     "execution_count": 3,
     "metadata": {},
     "output_type": "execute_result"
    }
   ],
   "source": [
    "#Test 4: Expanding the scope to 3 Octene files\n",
    "test = ['0001467554_1-OCTene.txt','0001554849_1-octEne.txt','0007688481_1-ocTEne.txt']\n",
    "test_dict = {}            \n",
    "index = 0\n",
    "while index < len(test):\n",
    "    \n",
    "    # Test 2a:\n",
    "    with open(test[index],'r') as file:\n",
    "        lines = file.readlines()   \n",
    "\n",
    "    # Test 2b:\n",
    "    content_elements = [\"# Wavenumber\", \"Transmittence\\n\"]\n",
    "    delimiter = []\n",
    "    revised_file = []\n",
    "\n",
    "    for line in lines:\n",
    "        if line[0] == \"#\":\n",
    "            for letter in content_elements:\n",
    "                line = line.replace(letter, \"\")\n",
    "                delimiter = line\n",
    "        elif line[0] != \"#\": \n",
    "            new_line = line.replace('\\n','')\n",
    "            revised_file.append(new_line)\n",
    " \n",
    "    \n",
    "    # Test 3:\n",
    "    for data in revised_file:\n",
    "        wn_tm = data.split(delimiter)\n",
    "        test_dict[float(wn_tm[0])] = float(wn_tm[1])\n",
    "    index += 1\n",
    "        \n",
    "test_dict    \n"
   ]
  },
  {
   "cell_type": "code",
   "execution_count": 6,
   "id": "bd62391d",
   "metadata": {},
   "outputs": [
    {
     "name": "stdout",
     "output_type": "stream",
     "text": [
      "[['658.00', '0.696980'], ['608.00', '0.719520'], ['633.00', '0.192220'], ['663.00', '0.734280'], ['618.00', '0.423320'], ['588.00', '0.899200'], ['623.00', '0.278580'], ['603.00', '0.802140'], ['653.00', '0.606540'], ['643.00', '0.355060'], ['638.00', '0.240280'], ['648.00', '0.473640'], ['583.00', '0.903520'], ['598.00', '0.850040'], ['593.00', '0.880000'], ['628.00', '0.200780'], ['613.00', '0.568440']]\n",
      "[['563.00', '0.766400'], ['533.00', '0.923380'], ['538.00', '0.876660'], ['573.00', '0.869620'], ['548.00', '0.628080'], ['558.00', '0.696380'], ['553.00', '0.604740'], ['543.00', '0.757220'], ['568.00', '0.813040']]\n",
      "[['2533.00', '0.854980'], ['2643.00', '0.674800'], ['2573.00', '0.793880'], ['2538.00', '0.843560'], ['2603.00', '0.756500'], ['2513.00', '0.879700'], ['2618.00', '0.734860'], ['2553.00', '0.817120'], ['2578.00', '0.789300'], ['2563.00', '0.804220'], ['2528.00', '0.862980'], ['2518.00', '0.870140'], ['2568.00', '0.798580'], ['2623.00', '0.728180'], ['2608.00', '0.749120'], ['2548.00', '0.824200'], ['2633.00', '0.710800'], ['2598.00', '0.764120'], ['2628.00', '0.723780'], ['2558.00', '0.810440'], ['2613.00', '0.741900'], ['2588.00', '0.780260'], ['2583.00', '0.785300'], ['2523.00', '0.867640'], ['2593.00', '0.772120'], ['2638.00', '0.692800'], ['2543.00', '0.831960']]\n"
     ]
    },
    {
     "data": {
      "text/plain": [
       "{}"
      ]
     },
     "execution_count": 6,
     "metadata": {},
     "output_type": "execute_result"
    }
   ],
   "source": [
    "#Test 4: Expanding the scope to 3 Octene files\n",
    "test = ['0001467554_1-OCTene.txt','0001554849_1-octEne.txt','0007688481_1-ocTEne.txt']\n",
    "test_dict = {}            \n",
    "\n",
    "for file in test:\n",
    "    \n",
    "    # Test 2a:\n",
    "    with open(file,'r') as file:\n",
    "        lines = file.readlines()   \n",
    "\n",
    "    # Test 2b:\n",
    "    content_elements = [\"# Wavenumber\", \"Transmittence\\n\"]\n",
    "    delimiter = []\n",
    "    revised_file = []\n",
    "\n",
    "    for line in lines:\n",
    "        if line[0] == \"#\":\n",
    "            for letter in content_elements:\n",
    "                line = line.replace(letter, \"\")\n",
    "                delimiter = line\n",
    "        elif line[0] != \"#\": \n",
    "            new_line = line.replace('\\n','')\n",
    "            revised_file.append(new_line)\n",
    " \n",
    "    \n",
    "\n",
    "    wn_tm = [data.split(delimiter) for data in revised_file]\n",
    "    print(wn_tm)\n",
    "    #test_dict[float(wn_tm[0])] = float(wn_tm[1])\n",
    "        \n",
    "test_dict    \n"
   ]
  },
  {
   "cell_type": "code",
   "execution_count": 14,
   "id": "00ebeb15",
   "metadata": {},
   "outputs": [
    {
     "name": "stdout",
     "output_type": "stream",
     "text": [
      "['# Wavenumber\\tTransmittence', '658.00\\t0.696980', '608.00\\t0.719520', '633.00\\t0.192220', '663.00\\t0.734280', '618.00\\t0.423320', '588.00\\t0.899200', '623.00\\t0.278580', '603.00\\t0.802140', '653.00\\t0.606540', '643.00\\t0.355060', '638.00\\t0.240280', '648.00\\t0.473640', '583.00\\t0.903520', '598.00\\t0.850040', '593.00\\t0.880000', '628.00\\t0.200780', '613.00\\t0.568440']\n",
      "['# Wavenumber\\tTransmittence', '658.00\\t0.696980', '608.00\\t0.719520', '633.00\\t0.192220', '663.00\\t0.734280', '618.00\\t0.423320', '588.00\\t0.899200', '623.00\\t0.278580', '603.00\\t0.802140', '653.00\\t0.606540', '643.00\\t0.355060', '638.00\\t0.240280', '648.00\\t0.473640', '583.00\\t0.903520', '598.00\\t0.850040', '593.00\\t0.880000', '628.00\\t0.200780', '613.00\\t0.568440']\n",
      "['# Wavenumber\\tTransmittence', '658.00\\t0.696980', '608.00\\t0.719520', '633.00\\t0.192220', '663.00\\t0.734280', '618.00\\t0.423320', '588.00\\t0.899200', '623.00\\t0.278580', '603.00\\t0.802140', '653.00\\t0.606540', '643.00\\t0.355060', '638.00\\t0.240280', '648.00\\t0.473640', '583.00\\t0.903520', '598.00\\t0.850040', '593.00\\t0.880000', '628.00\\t0.200780', '613.00\\t0.568440']\n",
      "['# Wavenumber\\tTransmittence', '658.00\\t0.696980', '608.00\\t0.719520', '633.00\\t0.192220', '663.00\\t0.734280', '618.00\\t0.423320', '588.00\\t0.899200', '623.00\\t0.278580', '603.00\\t0.802140', '653.00\\t0.606540', '643.00\\t0.355060', '638.00\\t0.240280', '648.00\\t0.473640', '583.00\\t0.903520', '598.00\\t0.850040', '593.00\\t0.880000', '628.00\\t0.200780', '613.00\\t0.568440']\n",
      "['# Wavenumber\\tTransmittence', '658.00\\t0.696980', '608.00\\t0.719520', '633.00\\t0.192220', '663.00\\t0.734280', '618.00\\t0.423320', '588.00\\t0.899200', '623.00\\t0.278580', '603.00\\t0.802140', '653.00\\t0.606540', '643.00\\t0.355060', '638.00\\t0.240280', '648.00\\t0.473640', '583.00\\t0.903520', '598.00\\t0.850040', '593.00\\t0.880000', '628.00\\t0.200780', '613.00\\t0.568440']\n",
      "['# Wavenumber\\tTransmittence', '658.00\\t0.696980', '608.00\\t0.719520', '633.00\\t0.192220', '663.00\\t0.734280', '618.00\\t0.423320', '588.00\\t0.899200', '623.00\\t0.278580', '603.00\\t0.802140', '653.00\\t0.606540', '643.00\\t0.355060', '638.00\\t0.240280', '648.00\\t0.473640', '583.00\\t0.903520', '598.00\\t0.850040', '593.00\\t0.880000', '628.00\\t0.200780', '613.00\\t0.568440']\n",
      "['# Wavenumber\\tTransmittence', '658.00\\t0.696980', '608.00\\t0.719520', '633.00\\t0.192220', '663.00\\t0.734280', '618.00\\t0.423320', '588.00\\t0.899200', '623.00\\t0.278580', '603.00\\t0.802140', '653.00\\t0.606540', '643.00\\t0.355060', '638.00\\t0.240280', '648.00\\t0.473640', '583.00\\t0.903520', '598.00\\t0.850040', '593.00\\t0.880000', '628.00\\t0.200780', '613.00\\t0.568440']\n",
      "['# Wavenumber\\tTransmittence', '658.00\\t0.696980', '608.00\\t0.719520', '633.00\\t0.192220', '663.00\\t0.734280', '618.00\\t0.423320', '588.00\\t0.899200', '623.00\\t0.278580', '603.00\\t0.802140', '653.00\\t0.606540', '643.00\\t0.355060', '638.00\\t0.240280', '648.00\\t0.473640', '583.00\\t0.903520', '598.00\\t0.850040', '593.00\\t0.880000', '628.00\\t0.200780', '613.00\\t0.568440']\n",
      "['# Wavenumber\\tTransmittence', '658.00\\t0.696980', '608.00\\t0.719520', '633.00\\t0.192220', '663.00\\t0.734280', '618.00\\t0.423320', '588.00\\t0.899200', '623.00\\t0.278580', '603.00\\t0.802140', '653.00\\t0.606540', '643.00\\t0.355060', '638.00\\t0.240280', '648.00\\t0.473640', '583.00\\t0.903520', '598.00\\t0.850040', '593.00\\t0.880000', '628.00\\t0.200780', '613.00\\t0.568440']\n",
      "['# Wavenumber\\tTransmittence', '658.00\\t0.696980', '608.00\\t0.719520', '633.00\\t0.192220', '663.00\\t0.734280', '618.00\\t0.423320', '588.00\\t0.899200', '623.00\\t0.278580', '603.00\\t0.802140', '653.00\\t0.606540', '643.00\\t0.355060', '638.00\\t0.240280', '648.00\\t0.473640', '583.00\\t0.903520', '598.00\\t0.850040', '593.00\\t0.880000', '628.00\\t0.200780', '613.00\\t0.568440']\n",
      "['# Wavenumber\\tTransmittence', '658.00\\t0.696980', '608.00\\t0.719520', '633.00\\t0.192220', '663.00\\t0.734280', '618.00\\t0.423320', '588.00\\t0.899200', '623.00\\t0.278580', '603.00\\t0.802140', '653.00\\t0.606540', '643.00\\t0.355060', '638.00\\t0.240280', '648.00\\t0.473640', '583.00\\t0.903520', '598.00\\t0.850040', '593.00\\t0.880000', '628.00\\t0.200780', '613.00\\t0.568440']\n",
      "['# Wavenumber\\tTransmittence', '658.00\\t0.696980', '608.00\\t0.719520', '633.00\\t0.192220', '663.00\\t0.734280', '618.00\\t0.423320', '588.00\\t0.899200', '623.00\\t0.278580', '603.00\\t0.802140', '653.00\\t0.606540', '643.00\\t0.355060', '638.00\\t0.240280', '648.00\\t0.473640', '583.00\\t0.903520', '598.00\\t0.850040', '593.00\\t0.880000', '628.00\\t0.200780', '613.00\\t0.568440']\n",
      "['# Wavenumber\\tTransmittence', '658.00\\t0.696980', '608.00\\t0.719520', '633.00\\t0.192220', '663.00\\t0.734280', '618.00\\t0.423320', '588.00\\t0.899200', '623.00\\t0.278580', '603.00\\t0.802140', '653.00\\t0.606540', '643.00\\t0.355060', '638.00\\t0.240280', '648.00\\t0.473640', '583.00\\t0.903520', '598.00\\t0.850040', '593.00\\t0.880000', '628.00\\t0.200780', '613.00\\t0.568440']\n",
      "['# Wavenumber\\tTransmittence', '658.00\\t0.696980', '608.00\\t0.719520', '633.00\\t0.192220', '663.00\\t0.734280', '618.00\\t0.423320', '588.00\\t0.899200', '623.00\\t0.278580', '603.00\\t0.802140', '653.00\\t0.606540', '643.00\\t0.355060', '638.00\\t0.240280', '648.00\\t0.473640', '583.00\\t0.903520', '598.00\\t0.850040', '593.00\\t0.880000', '628.00\\t0.200780', '613.00\\t0.568440']\n",
      "['# Wavenumber\\tTransmittence', '658.00\\t0.696980', '608.00\\t0.719520', '633.00\\t0.192220', '663.00\\t0.734280', '618.00\\t0.423320', '588.00\\t0.899200', '623.00\\t0.278580', '603.00\\t0.802140', '653.00\\t0.606540', '643.00\\t0.355060', '638.00\\t0.240280', '648.00\\t0.473640', '583.00\\t0.903520', '598.00\\t0.850040', '593.00\\t0.880000', '628.00\\t0.200780', '613.00\\t0.568440']\n",
      "['# Wavenumber\\tTransmittence', '658.00\\t0.696980', '608.00\\t0.719520', '633.00\\t0.192220', '663.00\\t0.734280', '618.00\\t0.423320', '588.00\\t0.899200', '623.00\\t0.278580', '603.00\\t0.802140', '653.00\\t0.606540', '643.00\\t0.355060', '638.00\\t0.240280', '648.00\\t0.473640', '583.00\\t0.903520', '598.00\\t0.850040', '593.00\\t0.880000', '628.00\\t0.200780', '613.00\\t0.568440']\n",
      "['# Wavenumber\\tTransmittence', '658.00\\t0.696980', '608.00\\t0.719520', '633.00\\t0.192220', '663.00\\t0.734280', '618.00\\t0.423320', '588.00\\t0.899200', '623.00\\t0.278580', '603.00\\t0.802140', '653.00\\t0.606540', '643.00\\t0.355060', '638.00\\t0.240280', '648.00\\t0.473640', '583.00\\t0.903520', '598.00\\t0.850040', '593.00\\t0.880000', '628.00\\t0.200780', '613.00\\t0.568440']\n"
     ]
    },
    {
     "ename": "ValueError",
     "evalue": "could not convert string to float: 'Transmittence'",
     "output_type": "error",
     "traceback": [
      "\u001b[1;31m---------------------------------------------------------------------------\u001b[0m",
      "\u001b[1;31mValueError\u001b[0m                                Traceback (most recent call last)",
      "Cell \u001b[1;32mIn[14], line 29\u001b[0m\n\u001b[0;32m     27\u001b[0m     \u001b[38;5;28;01mfor\u001b[39;00m data \u001b[38;5;129;01min\u001b[39;00m revised_file:\n\u001b[0;32m     28\u001b[0m         wn_tm \u001b[38;5;241m=\u001b[39m data\u001b[38;5;241m.\u001b[39msplit(delimiter)\n\u001b[1;32m---> 29\u001b[0m         test_dict[\u001b[38;5;28mfloat\u001b[39m(wn_tm[\u001b[38;5;241m0\u001b[39m])] \u001b[38;5;241m=\u001b[39m \u001b[38;5;28;43mfloat\u001b[39;49m\u001b[43m(\u001b[49m\u001b[43mwn_tm\u001b[49m\u001b[43m[\u001b[49m\u001b[38;5;241;43m1\u001b[39;49m\u001b[43m]\u001b[49m\u001b[43m)\u001b[49m\n\u001b[0;32m     32\u001b[0m test_dict    \n",
      "\u001b[1;31mValueError\u001b[0m: could not convert string to float: 'Transmittence'"
     ]
    }
   ],
   "source": [
    "#Test 4: Expanding the scope to 3 Octene files\n",
    "test = ['0001467554_1-OCTene.txt','0001554849_1-octEne.txt','0007688481_1-ocTEne.txt']\n",
    "test_dict = {}            \n",
    "\n",
    "for file in test:\n",
    "    \n",
    "    # Test 2a:\n",
    "    with open(file,'r') as file:\n",
    "        lines = file.readlines()   \n",
    "\n",
    "    # Test 2b:\n",
    "    content_elements = [\"# Wavenumber\", \"Transmittence\\n\"]\n",
    "    delimiter = []\n",
    "    revised_file = []\n",
    "\n",
    "    for line in lines:\n",
    "        if line[0] == \"#\":\n",
    "            for letter in content_elements:\n",
    "                line = line.replace(letter, \"\")\n",
    "                delimiter = line\n",
    "        elif line[0] != \"#\": \n",
    "            revised_file = [line.replace('\\n','') for line in lines]\n",
    "            print(revised_file)\n",
    " \n",
    "    \n",
    "    # Test 3:\n",
    "    for data in revised_file:\n",
    "        wn_tm = data.split(delimiter)\n",
    "        test_dict[float(wn_tm[0])] = float(wn_tm[1])\n",
    "        \n",
    "        \n",
    "test_dict    \n"
   ]
  },
  {
   "cell_type": "code",
   "execution_count": 19,
   "id": "cb60dbf1",
   "metadata": {
    "scrolled": false
   },
   "outputs": [
    {
     "data": {
      "text/plain": [
       "{2533.0: 0.85498,\n",
       " 2643.0: 0.6748,\n",
       " 2573.0: 0.79388,\n",
       " 2538.0: 0.84356,\n",
       " 2603.0: 0.7565,\n",
       " 2513.0: 0.8797,\n",
       " 2618.0: 0.73486,\n",
       " 2553.0: 0.81712,\n",
       " 2578.0: 0.7893,\n",
       " 2563.0: 0.80422,\n",
       " 2528.0: 0.86298,\n",
       " 2518.0: 0.87014,\n",
       " 2568.0: 0.79858,\n",
       " 2623.0: 0.72818,\n",
       " 2608.0: 0.74912,\n",
       " 2548.0: 0.8242,\n",
       " 2633.0: 0.7108,\n",
       " 2598.0: 0.76412,\n",
       " 2628.0: 0.72378,\n",
       " 2558.0: 0.81044,\n",
       " 2613.0: 0.7419,\n",
       " 2588.0: 0.78026,\n",
       " 2583.0: 0.7853,\n",
       " 2523.0: 0.86764,\n",
       " 2593.0: 0.77212,\n",
       " 2638.0: 0.6928,\n",
       " 2543.0: 0.83196}"
      ]
     },
     "execution_count": 19,
     "metadata": {},
     "output_type": "execute_result"
    }
   ],
   "source": [
    "#Test 4: Expanding the scope to 3 Octene files\n",
    "test = ['0001467554_1-OCTene.txt','0001554849_1-octEne.txt','0007688481_1-ocTEne.txt']\n",
    "test_dict = {}            \n",
    "\n",
    "for file in test:\n",
    "    \n",
    "    # Test 2a:\n",
    "    with open(file,'r') as file:\n",
    "        lines = file.readlines()   \n",
    "\n",
    "    # Test 2b:\n",
    "    content_elements = [\"# Wavenumber\", \"Transmittence\\n\"]\n",
    "    delimiter = []\n",
    "    revised_file = []\n",
    "\n",
    "    i = 0\n",
    "while i < len(lines):\n",
    "    if lines[i][0] == \"#\":\n",
    "        j = 0\n",
    "        while j < len(content_elements):\n",
    "            lines[i] = lines[i].replace(content_elements[j], \"\")\n",
    "            delimiter = lines[i]\n",
    "            j += 1\n",
    "    elif lines[i][0] != \"#\":\n",
    "        new_line = lines[i].replace('\\n','')\n",
    "        revised_file.append(new_line)\n",
    "    i += 1\n",
    "    \n",
    "    \n",
    "    # Test 3:\n",
    "    test_dict = {float(data.split(delimiter)[0]): float(data.split(delimiter)[1]) for data in revised_file}\n",
    "        \n",
    "test_dict    \n",
    "\n"
   ]
  },
  {
   "cell_type": "code",
   "execution_count": 24,
   "id": "96bed180",
   "metadata": {},
   "outputs": [],
   "source": [
    "glob.glob('*')\n",
    "\n",
    "octene_files = glob.glob('*1-octene*')\n",
    "ethanol_files = glob.glob('*ethanol*')\n",
    "toluene_files = glob.glob('*toluene*')\n",
    "\n",
    "#print(octene_files)\n",
    "#print(ethanol_files)\n",
    "#print(toluene_files)"
   ]
  },
  {
   "cell_type": "code",
   "execution_count": 22,
   "id": "a5f6138b",
   "metadata": {},
   "outputs": [],
   "source": [
    "def store(file, chemical_dict):\n",
    "    with open(file,'r') as file:\n",
    "        lines = file.readlines()\n",
    "\n",
    "    # Test 2b:\n",
    "    content_elements = [\"# Wavenumber\", \"Transmittence\\n\"]\n",
    "    delimiter = []\n",
    "    revised_file = []\n",
    "\n",
    "    for line in lines:\n",
    "        if line[0] == \"#\":\n",
    "            for letter in content_elements:\n",
    "                line = line.replace(letter, \"\")\n",
    "                delimiter = line\n",
    "        elif line[0] != \"#\": \n",
    "            new_line = line.replace('\\n','')\n",
    "            revised_file.append(new_line)\n",
    " \n",
    "    # Test 3:\n",
    "    for data in revised_file:\n",
    "        wn_tm = data.split(delimiter)\n",
    "        chemical_dict[float(wn_tm[0])] = float(wn_tm[1])"
   ]
  },
  {
   "cell_type": "code",
   "execution_count": null,
   "id": "eed8517f",
   "metadata": {},
   "outputs": [],
   "source": [
    "#Run store function for all chemicals:\n",
    "\n",
    "octene = {}\n",
    "ethanol = {}\n",
    "toluene = {}\n",
    "\n",
    "data = [octene, ethanol, toluene]\n",
    "raw_files = [octene_files, ethanol_files, toluene_files]\n",
    "\n",
    "for chemical in raw_files:\n",
    "    if chemical == octene_files:\n",
    "        for i in chemical:\n",
    "            store(i,octene)\n",
    "    elif chemical == ethanol_files:\n",
    "        for i in chemical:\n",
    "            store(i, ethanol)\n",
    "    elif chemical == toluene_files:\n",
    "        for i in chemical:\n",
    "            store(i, toluene)\n",
    "print(octene)\n",
    "#print(ethanol)\n",
    "#print(toluene)"
   ]
  },
  {
   "cell_type": "code",
   "execution_count": null,
   "id": "726b46df",
   "metadata": {},
   "outputs": [],
   "source": [
    "i = 0\n",
    "while i < len(raw_files):\n",
    "    chemical = raw_files[i]\n",
    "    if chemical == octene_files:\n",
    "        j = 0\n",
    "        while j < len(chemical):\n",
    "            store(chemical[j], octene)\n",
    "            j += 1\n",
    "    elif chemical == ethanol_files:\n",
    "        j = 0\n",
    "        while j < len(chemical):\n",
    "            store(chemical[j], ethanol)\n",
    "            j += 1\n",
    "    elif chemical == toluene_files:\n",
    "        j = 0\n",
    "        while j < len(chemical):\n",
    "            store(chemical[j], toluene)\n",
    "            j += 1\n",
    "    i += 1\n"
   ]
  }
 ],
 "metadata": {
  "kernelspec": {
   "display_name": "Python 3 (ipykernel)",
   "language": "python",
   "name": "python3"
  },
  "language_info": {
   "codemirror_mode": {
    "name": "ipython",
    "version": 3
   },
   "file_extension": ".py",
   "mimetype": "text/x-python",
   "name": "python",
   "nbconvert_exporter": "python",
   "pygments_lexer": "ipython3",
   "version": "3.10.8"
  },
  "toc": {
   "base_numbering": 1,
   "nav_menu": {},
   "number_sections": true,
   "sideBar": true,
   "skip_h1_title": false,
   "title_cell": "Table of Contents",
   "title_sidebar": "Contents",
   "toc_cell": false,
   "toc_position": {},
   "toc_section_display": true,
   "toc_window_display": false
  },
  "varInspector": {
   "cols": {
    "lenName": 16,
    "lenType": 16,
    "lenVar": 40
   },
   "kernels_config": {
    "python": {
     "delete_cmd_postfix": "",
     "delete_cmd_prefix": "del ",
     "library": "var_list.py",
     "varRefreshCmd": "print(var_dic_list())"
    },
    "r": {
     "delete_cmd_postfix": ") ",
     "delete_cmd_prefix": "rm(",
     "library": "var_list.r",
     "varRefreshCmd": "cat(var_dic_list()) "
    }
   },
   "types_to_exclude": [
    "module",
    "function",
    "builtin_function_or_method",
    "instance",
    "_Feature"
   ],
   "window_display": false
  }
 },
 "nbformat": 4,
 "nbformat_minor": 5
}
